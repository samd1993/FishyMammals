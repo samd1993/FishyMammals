{
 "cells": [
  {
   "cell_type": "markdown",
   "id": "1c415fdc",
   "metadata": {},
   "source": [
    "# Song et al. (2020) itol mantel figure reproduce attempt "
   ]
  },
  {
   "cell_type": "markdown",
   "id": "90b9004a",
   "metadata": {},
   "source": [
    "## After hours and hours of blood sweat and tears I have finally got python, jupyter, and qiime2 to work in peaceful coexistence"
   ]
  },
  {
   "cell_type": "markdown",
   "id": "096b7a7f",
   "metadata": {},
   "source": [
    "### Some notes to remember:\n",
    "\n",
    "1. Download qiime2 in ubuntu FIRST then when u activate your environment, download ipython and jupyter stuff and kernel in the virtual env. Then there should be code to add kernel to environment. \n",
    "2. Then you launch jupyter from the venv and qiime2 can finally be imported in jupyter. This took me forever to figure out. Also had trouble with other packages, but after doing the !sys pip install method in jupyter I had almost no issues. \n",
    "3. TreeTime is what I shouldve been using all along, just google TreeTime database to make the tree and then you can use their code to line up all tree, distance matrices, and metadata. Code is so much quicker and easier than in R/excel"
   ]
  },
  {
   "cell_type": "code",
   "execution_count": 91,
   "id": "3d51a901",
   "metadata": {},
   "outputs": [
    {
     "name": "stdout",
     "output_type": "stream",
     "text": [
      "Requirement already satisfied: ecopy in /home/samd1993/miniconda3/envs/qiime2-2021.4/lib/python3.8/site-packages (0.1.2.2)\r\n",
      "Requirement already satisfied: matplotlib>=1.3.1 in /home/samd1993/miniconda3/envs/qiime2-2021.4/lib/python3.8/site-packages (from ecopy) (3.4.1)\r\n",
      "Requirement already satisfied: pandas>=0.13 in /home/samd1993/miniconda3/envs/qiime2-2021.4/lib/python3.8/site-packages (from ecopy) (1.2.4)\r\n",
      "Requirement already satisfied: numpy>=1.7 in /home/samd1993/miniconda3/envs/qiime2-2021.4/lib/python3.8/site-packages (from ecopy) (1.20.2)\r\n",
      "Requirement already satisfied: patsy>=0.3.0 in /home/samd1993/miniconda3/envs/qiime2-2021.4/lib/python3.8/site-packages (from ecopy) (0.5.1)\r\n",
      "Requirement already satisfied: scipy>=0.14 in /home/samd1993/miniconda3/envs/qiime2-2021.4/lib/python3.8/site-packages (from ecopy) (1.6.2)\r\n",
      "Requirement already satisfied: pyparsing>=2.2.1 in /home/samd1993/miniconda3/envs/qiime2-2021.4/lib/python3.8/site-packages (from matplotlib>=1.3.1->ecopy) (2.4.7)\r\n",
      "Requirement already satisfied: cycler>=0.10 in /home/samd1993/miniconda3/envs/qiime2-2021.4/lib/python3.8/site-packages (from matplotlib>=1.3.1->ecopy) (0.10.0)\r\n",
      "Requirement already satisfied: kiwisolver>=1.0.1 in /home/samd1993/miniconda3/envs/qiime2-2021.4/lib/python3.8/site-packages (from matplotlib>=1.3.1->ecopy) (1.3.1)\r\n",
      "Requirement already satisfied: pillow>=6.2.0 in /home/samd1993/miniconda3/envs/qiime2-2021.4/lib/python3.8/site-packages (from matplotlib>=1.3.1->ecopy) (8.1.2)\r\n",
      "Requirement already satisfied: python-dateutil>=2.7 in /home/samd1993/miniconda3/envs/qiime2-2021.4/lib/python3.8/site-packages (from matplotlib>=1.3.1->ecopy) (2.8.1)\r\n",
      "Requirement already satisfied: six in /home/samd1993/miniconda3/envs/qiime2-2021.4/lib/python3.8/site-packages (from cycler>=0.10->matplotlib>=1.3.1->ecopy) (1.15.0)\r\n",
      "Requirement already satisfied: pytz>=2017.3 in /home/samd1993/miniconda3/envs/qiime2-2021.4/lib/python3.8/site-packages (from pandas>=0.13->ecopy) (2021.1)\r\n"
     ]
    }
   ],
   "source": [
    "import sys\n",
    "!{sys.executable} -m pip install ecopy"
   ]
  },
  {
   "cell_type": "code",
   "execution_count": 145,
   "id": "b6cbb30c",
   "metadata": {
    "scrolled": true
   },
   "outputs": [],
   "source": [
    "import skbio as skb\n",
    "import numpy as np\n",
    "import pandas as pd\n",
    "import seaborn as sns\n",
    "from ecopy import Mantel"
   ]
  },
  {
   "cell_type": "code",
   "execution_count": 146,
   "id": "5b52b6f7",
   "metadata": {},
   "outputs": [],
   "source": [
    "from matplotlib import pyplot as plt\n",
    "import pylab as pl\n",
    "from qiime2 import Artifact\n",
    "from skbio import TreeNode\n",
    "from skbio.stats.distance import mantel\n",
    "from scipy.stats import linregress\n",
    "from scipy.spatial.distance import squareform, pdist\n",
    "from os.path import abspath, join\n",
    "from os import makedirs\n",
    "import matplotlib as mpl"
   ]
  },
  {
   "cell_type": "code",
   "execution_count": 147,
   "id": "0e75e36d",
   "metadata": {},
   "outputs": [],
   "source": [
    "%matplotlib inline"
   ]
  },
  {
   "cell_type": "code",
   "execution_count": 148,
   "id": "3dfed6dc",
   "metadata": {},
   "outputs": [
    {
     "data": {
      "text/plain": [
       "'/mnt/c/Users/samde'"
      ]
     },
     "execution_count": 148,
     "metadata": {},
     "output_type": "execute_result"
    }
   ],
   "source": [
    "pwd"
   ]
  },
  {
   "cell_type": "code",
   "execution_count": 149,
   "id": "c79ece75",
   "metadata": {},
   "outputs": [
    {
     "data": {
      "text/plain": [
       "'/mnt/c/Users/samde/python/trees/fishtree.nwk'"
      ]
     },
     "execution_count": 149,
     "metadata": {},
     "output_type": "execute_result"
    }
   ],
   "source": [
    "tree_dir = abspath('../samde/python/trees')\n",
    "host_tree_fp = join(tree_dir, 'fishtree.nwk')\n",
    "host_tree_fp"
   ]
  },
  {
   "cell_type": "code",
   "execution_count": 150,
   "id": "a47e156e",
   "metadata": {},
   "outputs": [
    {
     "data": {
      "text/plain": [
       "20"
      ]
     },
     "execution_count": 150,
     "metadata": {},
     "output_type": "execute_result"
    }
   ],
   "source": [
    "host_tree= skb.io.read(host_tree_fp, format='newick', \n",
    "                       into=TreeNode,\n",
    "                       convert_underscores=False)\n",
    "\n",
    "host_tips = [x.name for x in host_tree.tips()]\n",
    "len(host_tips)"
   ]
  },
  {
   "cell_type": "code",
   "execution_count": 151,
   "id": "f6fc084d",
   "metadata": {},
   "outputs": [],
   "source": [
    "md_dir = '../samde/python/metadata'\n",
    "host_md_fp = join(md_dir, 'allmerged-metadata4.txt')\n",
    "host_md = pd.read_csv(host_md_fp, sep='\\t')\n",
    "\n",
    "host_md = host_md.loc[(host_md['treetax'].isin(host_tips))]"
   ]
  },
  {
   "cell_type": "code",
   "execution_count": 152,
   "id": "9c5daf23",
   "metadata": {},
   "outputs": [
    {
     "data": {
      "text/plain": [
       "550"
      ]
     },
     "execution_count": 152,
     "metadata": {},
     "output_type": "execute_result"
    }
   ],
   "source": [
    "len(host_md['sampleid'])\n"
   ]
  },
  {
   "cell_type": "code",
   "execution_count": 153,
   "id": "d3f90cae",
   "metadata": {},
   "outputs": [],
   "source": [
    "# filter to just tetrapods\n",
    "include_classes = ['Actinopterygii']\n",
    "\n",
    "host_md = host_md.loc[host_md['host'].isin(include_classes)]"
   ]
  },
  {
   "cell_type": "code",
   "execution_count": 154,
   "id": "aac0aab8",
   "metadata": {},
   "outputs": [],
   "source": [
    "\n",
    "dm_dir = abspath('../samde/python/bdiv')\n",
    "dm_fp = join(dm_dir, 'unweighted_unifrac_distance_matrixActinopterygii1k.qza')\n",
    "dm_art = Artifact.load(dm_fp)\n",
    "dm = dm_art.view(skb.DistanceMatrix)"
   ]
  },
  {
   "cell_type": "code",
   "execution_count": 155,
   "id": "f3dd9472",
   "metadata": {},
   "outputs": [],
   "source": [
    "md_ids = set(host_md['sampleid'])\n",
    "\n",
    "dm_ids = set(dm.ids)\n",
    "\n",
    "shared_ids = dm_ids & md_ids"
   ]
  },
  {
   "cell_type": "code",
   "execution_count": 156,
   "id": "0c4a26da",
   "metadata": {},
   "outputs": [
    {
     "data": {
      "text/plain": [
       "550"
      ]
     },
     "execution_count": 156,
     "metadata": {},
     "output_type": "execute_result"
    }
   ],
   "source": [
    "len(md_ids)"
   ]
  },
  {
   "cell_type": "code",
   "execution_count": 157,
   "id": "52177655",
   "metadata": {},
   "outputs": [
    {
     "data": {
      "text/plain": [
       "413"
      ]
     },
     "execution_count": 157,
     "metadata": {},
     "output_type": "execute_result"
    }
   ],
   "source": [
    "len(dm_ids)"
   ]
  },
  {
   "cell_type": "code",
   "execution_count": 158,
   "id": "baa070fb",
   "metadata": {},
   "outputs": [
    {
     "data": {
      "text/plain": [
       "403"
      ]
     },
     "execution_count": 158,
     "metadata": {},
     "output_type": "execute_result"
    }
   ],
   "source": [
    "len(shared_ids)"
   ]
  },
  {
   "cell_type": "code",
   "execution_count": 159,
   "id": "8bc19a66",
   "metadata": {},
   "outputs": [],
   "source": [
    "host_md = host_md.loc[host_md['sampleid'].isin(shared_ids)]\n",
    "dm = dm.filter(list(shared_ids))"
   ]
  },
  {
   "cell_type": "code",
   "execution_count": 160,
   "id": "fa3268cc",
   "metadata": {},
   "outputs": [
    {
     "data": {
      "text/plain": [
       "(403, 15)"
      ]
     },
     "execution_count": 160,
     "metadata": {},
     "output_type": "execute_result"
    }
   ],
   "source": [
    "host_md.shape"
   ]
  },
  {
   "cell_type": "code",
   "execution_count": 161,
   "id": "3c4015bf",
   "metadata": {},
   "outputs": [
    {
     "data": {
      "text/plain": [
       "(403, 403)"
      ]
     },
     "execution_count": 161,
     "metadata": {},
     "output_type": "execute_result"
    }
   ],
   "source": [
    "dm.shape"
   ]
  },
  {
   "cell_type": "code",
   "execution_count": 162,
   "id": "5d75a656",
   "metadata": {},
   "outputs": [],
   "source": [
    "host_tree = host_tree.shear(host_md['treetax'])\n",
    "host_tips = [x.name for x in host_tree.tips()]"
   ]
  },
  {
   "cell_type": "code",
   "execution_count": 163,
   "id": "b00df4c6",
   "metadata": {
    "scrolled": true
   },
   "outputs": [
    {
     "data": {
      "text/plain": [
       "['Dascyllus_flavicaudus',\n",
       " 'Abudefduf_sexfasciatus',\n",
       " 'Stegastes_nigricans',\n",
       " 'Aulostomus_chinensis',\n",
       " 'Epinephelus_merra',\n",
       " 'Cephalopholis_urodeta',\n",
       " 'Cephalopholis_argus',\n",
       " 'Chaetodon_auriga',\n",
       " 'Chaetodon_reticulatus',\n",
       " 'Chaetodon_ornatissimus',\n",
       " 'Ctenochaetus_striatus',\n",
       " 'Zebrasoma_scopas',\n",
       " 'Naso_lituratus',\n",
       " 'Rhinecanthus_aculeatus',\n",
       " 'Halichoeres_trimaculatus',\n",
       " 'Chlorurus_spilurus',\n",
       " 'Epibulus_insidiator',\n",
       " 'Sargocentron_spiniferum',\n",
       " 'Myripristis_berndti',\n",
       " 'Myripristis_violacea']"
      ]
     },
     "execution_count": 163,
     "metadata": {},
     "output_type": "execute_result"
    }
   ],
   "source": [
    "host_tips"
   ]
  },
  {
   "cell_type": "code",
   "execution_count": 164,
   "id": "c8927069",
   "metadata": {},
   "outputs": [
    {
     "data": {
      "text/plain": [
       "20"
      ]
     },
     "execution_count": 164,
     "metadata": {},
     "output_type": "execute_result"
    }
   ],
   "source": [
    "len(host_tips)"
   ]
  },
  {
   "cell_type": "code",
   "execution_count": 165,
   "id": "1fffc2c7",
   "metadata": {},
   "outputs": [],
   "source": [
    "subset = False"
   ]
  },
  {
   "cell_type": "code",
   "execution_count": 166,
   "id": "a87ddedf",
   "metadata": {},
   "outputs": [],
   "source": [
    "# subset the tree if desired\n",
    "if subset:\n",
    "    host_subset = np.random.choice(host_tips, size=100, replace=False)\n",
    "else:\n",
    "    host_subset = host_tips\n",
    "\n",
    "host_tree_subset = host_tree.shear(host_subset)\n",
    "\n",
    "host_ids_subset = host_md.loc[host_md['treetax'].isin(host_subset), 'sampleid']"
   ]
  },
  {
   "cell_type": "code",
   "execution_count": 167,
   "id": "55132259",
   "metadata": {},
   "outputs": [
    {
     "data": {
      "text/plain": [
       "403"
      ]
     },
     "execution_count": 167,
     "metadata": {},
     "output_type": "execute_result"
    }
   ],
   "source": [
    "len(host_ids_subset)"
   ]
  },
  {
   "cell_type": "code",
   "execution_count": 168,
   "id": "a31cc469",
   "metadata": {},
   "outputs": [],
   "source": [
    "one_per_sp = True"
   ]
  },
  {
   "cell_type": "code",
   "execution_count": 169,
   "id": "5f0bfae0",
   "metadata": {},
   "outputs": [],
   "source": [
    "if one_per_sp:\n",
    "    host_md = host_md.loc[(host_md['sampleid'].isin(host_ids_subset)) &\n",
    "                          (host_md['sampleid'].isin(dm.ids)),].groupby('treetax').first()\n",
    "\n",
    "    host_md =  host_md.loc[(host_md['sampleid'].isin(host_ids_subset)) &\n",
    "                          (host_md['sampleid'].isin(dm.ids)),].groupby('treetax').first().reset_index()\n",
    "    host_ids_subset = list(set(host_ids_subset) & set(host_md['sampleid']))"
   ]
  },
  {
   "cell_type": "code",
   "execution_count": 170,
   "id": "81e34c33",
   "metadata": {},
   "outputs": [
    {
     "data": {
      "text/plain": [
       "20"
      ]
     },
     "execution_count": 170,
     "metadata": {},
     "output_type": "execute_result"
    }
   ],
   "source": [
    "len(host_ids_subset)"
   ]
  },
  {
   "cell_type": "code",
   "execution_count": 171,
   "id": "5f50f1e0",
   "metadata": {},
   "outputs": [],
   "source": [
    "patristic_dm = host_tree_subset.tip_tip_distances()"
   ]
  },
  {
   "cell_type": "code",
   "execution_count": 172,
   "id": "ebd85d01",
   "metadata": {},
   "outputs": [
    {
     "data": {
      "text/plain": [
       "(20, 20)"
      ]
     },
     "execution_count": 172,
     "metadata": {},
     "output_type": "execute_result"
    }
   ],
   "source": [
    "patristic_dm.shape"
   ]
  },
  {
   "cell_type": "markdown",
   "id": "7f709569",
   "metadata": {},
   "source": [
    "So now to make diet matrix I went back into relatedness script in R (or start fresh one) and you just use dcast function from reshape2 to make diet matrix from metadata, which in my case is basically binary (0,1), to make distance matrix"
   ]
  },
  {
   "cell_type": "code",
   "execution_count": 173,
   "id": "fb780f4b",
   "metadata": {},
   "outputs": [
    {
     "data": {
      "text/html": [
       "<div>\n",
       "<style scoped>\n",
       "    .dataframe tbody tr th:only-of-type {\n",
       "        vertical-align: middle;\n",
       "    }\n",
       "\n",
       "    .dataframe tbody tr th {\n",
       "        vertical-align: top;\n",
       "    }\n",
       "\n",
       "    .dataframe thead th {\n",
       "        text-align: right;\n",
       "    }\n",
       "</style>\n",
       "<table border=\"1\" class=\"dataframe\">\n",
       "  <thead>\n",
       "    <tr style=\"text-align: right;\">\n",
       "      <th></th>\n",
       "      <th>carnivore</th>\n",
       "      <th>corallivore</th>\n",
       "      <th>detritivore</th>\n",
       "      <th>herbivore</th>\n",
       "      <th>omnivore</th>\n",
       "      <th>planktivore</th>\n",
       "    </tr>\n",
       "  </thead>\n",
       "  <tbody>\n",
       "    <tr>\n",
       "      <th>sampleid</th>\n",
       "      <td>NaN</td>\n",
       "      <td>NaN</td>\n",
       "      <td>NaN</td>\n",
       "      <td>NaN</td>\n",
       "      <td>NaN</td>\n",
       "      <td>NaN</td>\n",
       "    </tr>\n",
       "    <tr>\n",
       "      <th>1</th>\n",
       "      <td>0.0</td>\n",
       "      <td>0.0</td>\n",
       "      <td>0.0</td>\n",
       "      <td>1.0</td>\n",
       "      <td>0.0</td>\n",
       "      <td>0.0</td>\n",
       "    </tr>\n",
       "    <tr>\n",
       "      <th>10</th>\n",
       "      <td>0.0</td>\n",
       "      <td>1.0</td>\n",
       "      <td>0.0</td>\n",
       "      <td>0.0</td>\n",
       "      <td>0.0</td>\n",
       "      <td>0.0</td>\n",
       "    </tr>\n",
       "    <tr>\n",
       "      <th>100</th>\n",
       "      <td>1.0</td>\n",
       "      <td>0.0</td>\n",
       "      <td>0.0</td>\n",
       "      <td>0.0</td>\n",
       "      <td>0.0</td>\n",
       "      <td>0.0</td>\n",
       "    </tr>\n",
       "    <tr>\n",
       "      <th>101</th>\n",
       "      <td>1.0</td>\n",
       "      <td>0.0</td>\n",
       "      <td>0.0</td>\n",
       "      <td>0.0</td>\n",
       "      <td>0.0</td>\n",
       "      <td>0.0</td>\n",
       "    </tr>\n",
       "  </tbody>\n",
       "</table>\n",
       "</div>"
      ],
      "text/plain": [
       "          carnivore  corallivore  detritivore  herbivore  omnivore  \\\n",
       "sampleid        NaN          NaN          NaN        NaN       NaN   \n",
       "1               0.0          0.0          0.0        1.0       0.0   \n",
       "10              0.0          1.0          0.0        0.0       0.0   \n",
       "100             1.0          0.0          0.0        0.0       0.0   \n",
       "101             1.0          0.0          0.0        0.0       0.0   \n",
       "\n",
       "          planktivore  \n",
       "sampleid          NaN  \n",
       "1                 0.0  \n",
       "10                0.0  \n",
       "100               0.0  \n",
       "101               0.0  "
      ]
     },
     "execution_count": 173,
     "metadata": {},
     "output_type": "execute_result"
    }
   ],
   "source": [
    "md_dir = '../samde/python/metadata'\n",
    "host_diet_file = join(md_dir, 'alldietd.csv')\n",
    "host_diet_df = pd.read_csv(host_diet_file, sep=',',index_col=0)\n",
    "#host_diet_df = host_diet_df.dropna()\n",
    "host_diet_df.head()"
   ]
  },
  {
   "cell_type": "code",
   "execution_count": 174,
   "id": "bc81bfe7",
   "metadata": {},
   "outputs": [],
   "source": [
    "#host_diet_df.set_index('sampleid', inplace=True)  dont need it"
   ]
  },
  {
   "cell_type": "code",
   "execution_count": 175,
   "id": "1472e186",
   "metadata": {
    "scrolled": false
   },
   "outputs": [
    {
     "data": {
      "text/html": [
       "<div>\n",
       "<style scoped>\n",
       "    .dataframe tbody tr th:only-of-type {\n",
       "        vertical-align: middle;\n",
       "    }\n",
       "\n",
       "    .dataframe tbody tr th {\n",
       "        vertical-align: top;\n",
       "    }\n",
       "\n",
       "    .dataframe thead th {\n",
       "        text-align: right;\n",
       "    }\n",
       "</style>\n",
       "<table border=\"1\" class=\"dataframe\">\n",
       "  <thead>\n",
       "    <tr style=\"text-align: right;\">\n",
       "      <th></th>\n",
       "      <th>carnivore</th>\n",
       "      <th>corallivore</th>\n",
       "      <th>detritivore</th>\n",
       "      <th>herbivore</th>\n",
       "      <th>omnivore</th>\n",
       "      <th>planktivore</th>\n",
       "    </tr>\n",
       "  </thead>\n",
       "  <tbody>\n",
       "    <tr>\n",
       "      <th>23</th>\n",
       "      <td>0.0</td>\n",
       "      <td>0.0</td>\n",
       "      <td>0.0</td>\n",
       "      <td>0.0</td>\n",
       "      <td>1.0</td>\n",
       "      <td>0.0</td>\n",
       "    </tr>\n",
       "    <tr>\n",
       "      <th>14</th>\n",
       "      <td>0.0</td>\n",
       "      <td>1.0</td>\n",
       "      <td>0.0</td>\n",
       "      <td>0.0</td>\n",
       "      <td>0.0</td>\n",
       "      <td>0.0</td>\n",
       "    </tr>\n",
       "    <tr>\n",
       "      <th>18</th>\n",
       "      <td>0.0</td>\n",
       "      <td>0.0</td>\n",
       "      <td>0.0</td>\n",
       "      <td>0.0</td>\n",
       "      <td>0.0</td>\n",
       "      <td>1.0</td>\n",
       "    </tr>\n",
       "    <tr>\n",
       "      <th>29</th>\n",
       "      <td>0.0</td>\n",
       "      <td>0.0</td>\n",
       "      <td>0.0</td>\n",
       "      <td>0.0</td>\n",
       "      <td>1.0</td>\n",
       "      <td>0.0</td>\n",
       "    </tr>\n",
       "    <tr>\n",
       "      <th>36</th>\n",
       "      <td>1.0</td>\n",
       "      <td>0.0</td>\n",
       "      <td>0.0</td>\n",
       "      <td>0.0</td>\n",
       "      <td>0.0</td>\n",
       "      <td>0.0</td>\n",
       "    </tr>\n",
       "    <tr>\n",
       "      <th>63</th>\n",
       "      <td>1.0</td>\n",
       "      <td>0.0</td>\n",
       "      <td>0.0</td>\n",
       "      <td>0.0</td>\n",
       "      <td>0.0</td>\n",
       "      <td>0.0</td>\n",
       "    </tr>\n",
       "    <tr>\n",
       "      <th>22</th>\n",
       "      <td>1.0</td>\n",
       "      <td>0.0</td>\n",
       "      <td>0.0</td>\n",
       "      <td>0.0</td>\n",
       "      <td>0.0</td>\n",
       "      <td>0.0</td>\n",
       "    </tr>\n",
       "    <tr>\n",
       "      <th>1</th>\n",
       "      <td>0.0</td>\n",
       "      <td>0.0</td>\n",
       "      <td>0.0</td>\n",
       "      <td>1.0</td>\n",
       "      <td>0.0</td>\n",
       "      <td>0.0</td>\n",
       "    </tr>\n",
       "    <tr>\n",
       "      <th>37</th>\n",
       "      <td>1.0</td>\n",
       "      <td>0.0</td>\n",
       "      <td>0.0</td>\n",
       "      <td>0.0</td>\n",
       "      <td>0.0</td>\n",
       "      <td>0.0</td>\n",
       "    </tr>\n",
       "    <tr>\n",
       "      <th>A73</th>\n",
       "      <td>1.0</td>\n",
       "      <td>0.0</td>\n",
       "      <td>0.0</td>\n",
       "      <td>0.0</td>\n",
       "      <td>0.0</td>\n",
       "      <td>0.0</td>\n",
       "    </tr>\n",
       "    <tr>\n",
       "      <th>35</th>\n",
       "      <td>1.0</td>\n",
       "      <td>0.0</td>\n",
       "      <td>0.0</td>\n",
       "      <td>0.0</td>\n",
       "      <td>0.0</td>\n",
       "      <td>0.0</td>\n",
       "    </tr>\n",
       "    <tr>\n",
       "      <th>3</th>\n",
       "      <td>1.0</td>\n",
       "      <td>0.0</td>\n",
       "      <td>0.0</td>\n",
       "      <td>0.0</td>\n",
       "      <td>0.0</td>\n",
       "      <td>0.0</td>\n",
       "    </tr>\n",
       "    <tr>\n",
       "      <th>A3</th>\n",
       "      <td>0.0</td>\n",
       "      <td>0.0</td>\n",
       "      <td>1.0</td>\n",
       "      <td>0.0</td>\n",
       "      <td>0.0</td>\n",
       "      <td>0.0</td>\n",
       "    </tr>\n",
       "    <tr>\n",
       "      <th>A1</th>\n",
       "      <td>0.0</td>\n",
       "      <td>0.0</td>\n",
       "      <td>0.0</td>\n",
       "      <td>1.0</td>\n",
       "      <td>0.0</td>\n",
       "      <td>0.0</td>\n",
       "    </tr>\n",
       "    <tr>\n",
       "      <th>A14</th>\n",
       "      <td>0.0</td>\n",
       "      <td>0.0</td>\n",
       "      <td>1.0</td>\n",
       "      <td>0.0</td>\n",
       "      <td>0.0</td>\n",
       "      <td>0.0</td>\n",
       "    </tr>\n",
       "    <tr>\n",
       "      <th>D1</th>\n",
       "      <td>0.0</td>\n",
       "      <td>0.0</td>\n",
       "      <td>0.0</td>\n",
       "      <td>0.0</td>\n",
       "      <td>1.0</td>\n",
       "      <td>0.0</td>\n",
       "    </tr>\n",
       "    <tr>\n",
       "      <th>26</th>\n",
       "      <td>0.0</td>\n",
       "      <td>0.0</td>\n",
       "      <td>0.0</td>\n",
       "      <td>0.0</td>\n",
       "      <td>0.0</td>\n",
       "      <td>1.0</td>\n",
       "    </tr>\n",
       "    <tr>\n",
       "      <th>15</th>\n",
       "      <td>0.0</td>\n",
       "      <td>0.0</td>\n",
       "      <td>0.0</td>\n",
       "      <td>0.0</td>\n",
       "      <td>1.0</td>\n",
       "      <td>0.0</td>\n",
       "    </tr>\n",
       "    <tr>\n",
       "      <th>A4</th>\n",
       "      <td>1.0</td>\n",
       "      <td>0.0</td>\n",
       "      <td>0.0</td>\n",
       "      <td>0.0</td>\n",
       "      <td>0.0</td>\n",
       "      <td>0.0</td>\n",
       "    </tr>\n",
       "    <tr>\n",
       "      <th>5</th>\n",
       "      <td>0.0</td>\n",
       "      <td>1.0</td>\n",
       "      <td>0.0</td>\n",
       "      <td>0.0</td>\n",
       "      <td>0.0</td>\n",
       "      <td>0.0</td>\n",
       "    </tr>\n",
       "  </tbody>\n",
       "</table>\n",
       "</div>"
      ],
      "text/plain": [
       "     carnivore  corallivore  detritivore  herbivore  omnivore  planktivore\n",
       "23         0.0          0.0          0.0        0.0       1.0          0.0\n",
       "14         0.0          1.0          0.0        0.0       0.0          0.0\n",
       "18         0.0          0.0          0.0        0.0       0.0          1.0\n",
       "29         0.0          0.0          0.0        0.0       1.0          0.0\n",
       "36         1.0          0.0          0.0        0.0       0.0          0.0\n",
       "63         1.0          0.0          0.0        0.0       0.0          0.0\n",
       "22         1.0          0.0          0.0        0.0       0.0          0.0\n",
       "1          0.0          0.0          0.0        1.0       0.0          0.0\n",
       "37         1.0          0.0          0.0        0.0       0.0          0.0\n",
       "A73        1.0          0.0          0.0        0.0       0.0          0.0\n",
       "35         1.0          0.0          0.0        0.0       0.0          0.0\n",
       "3          1.0          0.0          0.0        0.0       0.0          0.0\n",
       "A3         0.0          0.0          1.0        0.0       0.0          0.0\n",
       "A1         0.0          0.0          0.0        1.0       0.0          0.0\n",
       "A14        0.0          0.0          1.0        0.0       0.0          0.0\n",
       "D1         0.0          0.0          0.0        0.0       1.0          0.0\n",
       "26         0.0          0.0          0.0        0.0       0.0          1.0\n",
       "15         0.0          0.0          0.0        0.0       1.0          0.0\n",
       "A4         1.0          0.0          0.0        0.0       0.0          0.0\n",
       "5          0.0          1.0          0.0        0.0       0.0          0.0"
      ]
     },
     "execution_count": 175,
     "metadata": {},
     "output_type": "execute_result"
    }
   ],
   "source": [
    "host_diet_df = host_diet_df.loc[host_ids_subset,:].dropna()\n",
    "host_diet_df\n",
    "#for some reason this works...guess i dont need sampleid as a column name like in github"
   ]
  },
  {
   "cell_type": "code",
   "execution_count": 176,
   "id": "d866df19",
   "metadata": {},
   "outputs": [],
   "source": [
    "diet_dm = skb.DistanceMatrix(squareform(pdist(host_diet_df.iloc[:, :], metric='jaccard')))\n",
    "diet_dm.ids = host_diet_df.index"
   ]
  },
  {
   "cell_type": "code",
   "execution_count": 177,
   "id": "258c91c5",
   "metadata": {},
   "outputs": [
    {
     "data": {
      "text/plain": [
       "(20, 20)"
      ]
     },
     "execution_count": 177,
     "metadata": {},
     "output_type": "execute_result"
    }
   ],
   "source": [
    "diet_dm.shape"
   ]
  },
  {
   "cell_type": "code",
   "execution_count": 178,
   "id": "08436d8f",
   "metadata": {},
   "outputs": [],
   "source": [
    "rename_df = host_md.loc[host_md['sampleid'].isin(diet_dm.ids),\n",
    "                             ['sampleid','treetax']].set_index('sampleid')\n",
    "rename = [rename_df.loc[x, 'treetax'] for x in diet_dm.ids]"
   ]
  },
  {
   "cell_type": "code",
   "execution_count": 179,
   "id": "1f3a1c02",
   "metadata": {},
   "outputs": [],
   "source": [
    "diet_dm.ids = rename"
   ]
  },
  {
   "cell_type": "markdown",
   "id": "8db671a0",
   "metadata": {},
   "source": [
    "## Subset DM to remaining hosts and rename by tree"
   ]
  },
  {
   "cell_type": "code",
   "execution_count": 180,
   "id": "c4ea1eda",
   "metadata": {},
   "outputs": [],
   "source": [
    "dm_subset = dm.filter(list(host_ids_subset))"
   ]
  },
  {
   "cell_type": "code",
   "execution_count": 181,
   "id": "e017d943",
   "metadata": {},
   "outputs": [
    {
     "data": {
      "text/plain": [
       "(20, 20)"
      ]
     },
     "execution_count": 181,
     "metadata": {},
     "output_type": "execute_result"
    }
   ],
   "source": [
    "dm_subset.shape"
   ]
  },
  {
   "cell_type": "code",
   "execution_count": 182,
   "id": "4e69fa7b",
   "metadata": {},
   "outputs": [],
   "source": [
    "rename_df = host_md.loc[host_md['sampleid'].isin(dm_subset.ids),\n",
    "                             ['sampleid','treetax']].set_index('sampleid')\n",
    "rename = [rename_df.loc[x, 'treetax'] for x in dm_subset.ids]"
   ]
  },
  {
   "cell_type": "code",
   "execution_count": 183,
   "id": "4b891379",
   "metadata": {},
   "outputs": [],
   "source": [
    "dm_subset.ids = rename"
   ]
  },
  {
   "cell_type": "code",
   "execution_count": 184,
   "id": "bf8cc03b",
   "metadata": {
    "scrolled": true
   },
   "outputs": [
    {
     "data": {
      "text/plain": [
       "True"
      ]
     },
     "execution_count": 184,
     "metadata": {},
     "output_type": "execute_result"
    }
   ],
   "source": [
    "set(dm_subset.ids) == set(patristic_dm.ids)"
   ]
  },
  {
   "cell_type": "code",
   "execution_count": 185,
   "id": "e438eb0c",
   "metadata": {},
   "outputs": [],
   "source": [
    "def recursive_mantel(tree, dm1, dm2, min_size=7, **kwargs):\n",
    "    i = 0\n",
    "    nodes = tree.count(tips=True) * 2 - 1\n",
    "    tree.assign_ids()\n",
    "    node_dict = {}\n",
    "    for n in tree.postorder():\n",
    "        label = n.name\n",
    "        i += 1\n",
    "        # see if you're below minimum clade size\n",
    "        if n.count(tips=True) < min_size:\n",
    "            continue\n",
    "        # if not, run mantel\n",
    "        else:\n",
    "            tips = [t.name for t in n.tips()]\n",
    "            dm1_s = dm1.filter(tips)\n",
    "            dm2_s = dm2.filter(tips)\n",
    "            corr, p, _ = mantel(dm1_s, dm2_s, **kwargs)\n",
    "            node_dict[n.name] = (corr, p)\n",
    "    \n",
    "        pct = (i / nodes)\n",
    "        \n",
    "        if np.round(pct * 100) % 10 == 0:\n",
    "            print(pct)\n",
    "    return(node_dict)"
   ]
  },
  {
   "cell_type": "code",
   "execution_count": 186,
   "id": "06abef3f",
   "metadata": {},
   "outputs": [],
   "source": [
    "def recursive_mantel_ecopy(tree, dm1, dm2, min_size=7, **kwargs):\n",
    "    i = 0\n",
    "    nodes = tree.count(tips=True) * 2 - 1\n",
    "    tree.assign_ids()\n",
    "    node_dict = {}\n",
    "    for n in tree.postorder():\n",
    "        label = n.name\n",
    "        i += 1\n",
    "        # see if you're below minimum clade size\n",
    "        if n.count(tips=True) < min_size:\n",
    "            continue\n",
    "        # if not, run mantel\n",
    "        else:\n",
    "            tips = [t.name for t in n.tips()]\n",
    "            dm1_s = dm1.filter(tips)\n",
    "            dm2_s = dm2.filter(tips)\n",
    "            res = Mantel(dm1_s.data, dm2_s.data, **kwargs)\n",
    "            \n",
    "            node_dict[n.name] = (res.r_obs, res.pval)\n",
    "    \n",
    "        pct = (i / nodes)\n",
    "        \n",
    "        if np.round(pct * 100) % 10 == 0:\n",
    "            print(pct)\n",
    "    return(node_dict)"
   ]
  },
  {
   "cell_type": "code",
   "execution_count": 187,
   "id": "c5da8b98",
   "metadata": {},
   "outputs": [],
   "source": [
    "def recursive_partial_mantel_ecopy(tree, dm1, dm2, dmc, min_size=7, **kwargs):\n",
    "    i = 0\n",
    "    nodes = tree.count(tips=True) * 2 - 1\n",
    "    tree.assign_ids()\n",
    "    node_dict = {}\n",
    "    for n in tree.postorder():\n",
    "        label = n.name\n",
    "        i += 1\n",
    "        # see if you're below minimum clade size\n",
    "        if n.count(tips=True) < min_size:\n",
    "            continue\n",
    "        # if not, run mantel\n",
    "        else:\n",
    "            tips = [t.name for t in n.tips()]\n",
    "            dm1_s = dm1.filter(tips)\n",
    "            dm2_s = dm2.filter(tips)\n",
    "            dmc_s = dmc.filter(tips)\n",
    "            res = Mantel(dm1_s.data, dm2_s.data, d_condition=dmc_s.data, **kwargs)\n",
    "            \n",
    "            node_dict[n.name] = (res.r_obs, res.pval)\n",
    "    \n",
    "        pct = (i / nodes)\n",
    "        \n",
    "        if np.round(pct * 100) % 10 == 0:\n",
    "            print(pct)\n",
    "    return(node_dict)"
   ]
  },
  {
   "cell_type": "code",
   "execution_count": 188,
   "id": "24bedc88",
   "metadata": {},
   "outputs": [
    {
     "ename": "TypeError",
     "evalue": "'NoneType' object is not subscriptable",
     "output_type": "error",
     "traceback": [
      "\u001b[0;31m---------------------------------------------------------------------------\u001b[0m",
      "\u001b[0;31mTypeError\u001b[0m                                 Traceback (most recent call last)",
      "\u001b[0;32m<ipython-input-188-ae2335c813d1>\u001b[0m in \u001b[0;36m<module>\u001b[0;34m\u001b[0m\n\u001b[1;32m      6\u001b[0m     \u001b[0;32mif\u001b[0m \u001b[0mn\u001b[0m\u001b[0;34m.\u001b[0m\u001b[0mis_tip\u001b[0m\u001b[0;34m(\u001b[0m\u001b[0;34m)\u001b[0m\u001b[0;34m:\u001b[0m\u001b[0;34m\u001b[0m\u001b[0;34m\u001b[0m\u001b[0m\n\u001b[1;32m      7\u001b[0m         \u001b[0;32mcontinue\u001b[0m\u001b[0;34m\u001b[0m\u001b[0;34m\u001b[0m\u001b[0m\n\u001b[0;32m----> 8\u001b[0;31m     \u001b[0;32melif\u001b[0m \u001b[0mn\u001b[0m\u001b[0;34m.\u001b[0m\u001b[0mname\u001b[0m\u001b[0;34m[\u001b[0m\u001b[0;36m0\u001b[0m\u001b[0;34m]\u001b[0m\u001b[0;34m.\u001b[0m\u001b[0misdigit\u001b[0m\u001b[0;34m(\u001b[0m\u001b[0;34m)\u001b[0m\u001b[0;34m:\u001b[0m\u001b[0;34m\u001b[0m\u001b[0;34m\u001b[0m\u001b[0m\n\u001b[0m\u001b[1;32m      9\u001b[0m         \u001b[0mn\u001b[0m\u001b[0;34m.\u001b[0m\u001b[0mname\u001b[0m \u001b[0;34m=\u001b[0m \u001b[0;34m\"node%s\"\u001b[0m \u001b[0;34m%\u001b[0m \u001b[0mn\u001b[0m\u001b[0;34m.\u001b[0m\u001b[0mname\u001b[0m\u001b[0;34m\u001b[0m\u001b[0;34m\u001b[0m\u001b[0m\n",
      "\u001b[0;31mTypeError\u001b[0m: 'NoneType' object is not subscriptable"
     ]
    }
   ],
   "source": [
    "# assign internal node names, non-integer\n",
    "\n",
    "host_tree_subset.assign_ids()\n",
    "\n",
    "for n in host_tree_subset.postorder():\n",
    "    if n.is_tip():\n",
    "        continue\n",
    "    elif n.name[0].isdigit(): \n",
    "        n.name = \"node%s\" % n.name"
   ]
  },
  {
   "cell_type": "code",
   "execution_count": 106,
   "id": "0d562a51",
   "metadata": {},
   "outputs": [],
   "source": [
    "tips = set(patristic_dm.ids) & set(dm_subset.ids) & set(diet_dm.ids)"
   ]
  },
  {
   "cell_type": "code",
   "execution_count": 107,
   "id": "c41dff5b",
   "metadata": {},
   "outputs": [
    {
     "data": {
      "text/plain": [
       "20"
      ]
     },
     "execution_count": 107,
     "metadata": {},
     "output_type": "execute_result"
    }
   ],
   "source": [
    "len(tips)"
   ]
  },
  {
   "cell_type": "code",
   "execution_count": 108,
   "id": "8b782d8d",
   "metadata": {},
   "outputs": [],
   "source": [
    "run = True"
   ]
  },
  {
   "cell_type": "code",
   "execution_count": 109,
   "id": "4607a5be",
   "metadata": {},
   "outputs": [
    {
     "name": "stdout",
     "output_type": "stream",
     "text": [
      "1.0\n"
     ]
    }
   ],
   "source": [
    "if run:\n",
    "    node_dict_spearman = recursive_mantel(host_tree_subset, patristic_dm, dm_subset, method='spearman')"
   ]
  },
  {
   "cell_type": "code",
   "execution_count": 110,
   "id": "3ab9b3de",
   "metadata": {
    "scrolled": true
   },
   "outputs": [
    {
     "name": "stdout",
     "output_type": "stream",
     "text": [
      "1.0\n"
     ]
    }
   ],
   "source": [
    "if run:\n",
    "    node_dict_pearson = recursive_mantel(host_tree_subset, patristic_dm, dm_subset, method='pearson')"
   ]
  },
  {
   "cell_type": "markdown",
   "id": "39137e1a",
   "metadata": {},
   "source": [
    "## Run Partial Mantels tests conditioned on diet"
   ]
  },
  {
   "cell_type": "code",
   "execution_count": 111,
   "id": "b1844cac",
   "metadata": {},
   "outputs": [
    {
     "name": "stderr",
     "output_type": "stream",
     "text": [
      "/home/samd1993/miniconda3/envs/qiime2-2021.4/lib/python3.8/site-packages/ecopy/matrix_comp/mantel.py:193: FutureWarning: `rcond` parameter will change to the default of machine precision times ``max(M, N)`` where M and N are the input matrix dimensions.\n",
      "To use the future default and silence this warning we advise to pass `rcond=None`, to keep using the old, explicitly pass `rcond=-1`.\n",
      "  params = np.linalg.lstsq(Z, y_flat)[0]\n"
     ]
    },
    {
     "name": "stdout",
     "output_type": "stream",
     "text": [
      "1.0\n"
     ]
    }
   ],
   "source": [
    "if run:\n",
    "    node_dict_spearman_partial = recursive_partial_mantel_ecopy(host_tree_subset.shear(tips),\n",
    "                                      patristic_dm.filter(tips),\n",
    "                                      dm_subset.filter(tips),\n",
    "                                      diet_dm.filter(tips),\n",
    "                                      test='spearman')"
   ]
  },
  {
   "cell_type": "code",
   "execution_count": 112,
   "id": "c53ed22b",
   "metadata": {},
   "outputs": [
    {
     "name": "stdout",
     "output_type": "stream",
     "text": [
      "1.0\n"
     ]
    }
   ],
   "source": [
    "if run:\n",
    "    node_dict_pearson_partial = recursive_partial_mantel_ecopy(host_tree_subset.shear(tips),\n",
    "                                      patristic_dm.filter(tips),\n",
    "                                      dm_subset.filter(tips),\n",
    "                                      diet_dm.filter(tips),\n",
    "                                      test='pearson')"
   ]
  },
  {
   "cell_type": "code",
   "execution_count": 113,
   "id": "0b9368c4",
   "metadata": {},
   "outputs": [
    {
     "data": {
      "text/plain": [
       "'/mnt/c/Users/samde'"
      ]
     },
     "execution_count": 113,
     "metadata": {},
     "output_type": "execute_result"
    }
   ],
   "source": [
    "pwd"
   ]
  },
  {
   "cell_type": "code",
   "execution_count": 114,
   "id": "5cc1643b",
   "metadata": {},
   "outputs": [
    {
     "data": {
      "text/plain": [
       "'../samde/python/mantel'"
      ]
     },
     "execution_count": 114,
     "metadata": {},
     "output_type": "execute_result"
    }
   ],
   "source": [
    "out_dir = '../samde/python/mantelfish'\n",
    "makedirs(out_dir, exist_ok=True)\n",
    "out_dir"
   ]
  },
  {
   "cell_type": "code",
   "execution_count": 115,
   "id": "ce4144d0",
   "metadata": {},
   "outputs": [],
   "source": [
    "if run:\n",
    "    host_tree_subset.write(join(out_dir,'annotated_host_tree.tre'), format='newick')"
   ]
  },
  {
   "cell_type": "code",
   "execution_count": 116,
   "id": "c4a85367",
   "metadata": {},
   "outputs": [],
   "source": [
    "if run:\n",
    "    node_df_pearson = pd.DataFrame.from_dict(node_dict_pearson, orient='index')\n",
    "    node_df_pearson.columns = ['r','p']\n",
    "    node_df_pearson.to_csv(join(out_dir, 'mantel.uwdist.pearson.csv'))"
   ]
  },
  {
   "cell_type": "code",
   "execution_count": 117,
   "id": "91af562c",
   "metadata": {},
   "outputs": [],
   "source": [
    "if run:\n",
    "    node_df_spearman =  pd.DataFrame.from_dict(node_dict_spearman, orient='index')\n",
    "    node_df_spearman.columns = ['r','p']\n",
    "    node_df_spearman.to_csv(join(out_dir, 'mantel.uwdist.spearman.csv'))"
   ]
  },
  {
   "cell_type": "code",
   "execution_count": 118,
   "id": "600685e9",
   "metadata": {},
   "outputs": [],
   "source": [
    "if run:\n",
    "    node_df_pearson_partial = pd.DataFrame.from_dict(node_dict_pearson_partial, orient='index')\n",
    "    node_df_pearson_partial.columns = ['r','p']\n",
    "    node_df_pearson_partial.to_csv(join(out_dir, 'mantel_partial.juwdist.pearson.csv'))"
   ]
  },
  {
   "cell_type": "code",
   "execution_count": 119,
   "id": "4516d8f0",
   "metadata": {},
   "outputs": [],
   "source": [
    "if run:\n",
    "    node_df_spearman_partial =  pd.DataFrame.from_dict(node_dict_spearman_partial, orient='index')\n",
    "    node_df_spearman_partial.columns = ['r','p']\n",
    "    node_df_spearman_partial.to_csv(join(out_dir, 'mantel_partial.uwdist.spearman.csv'))"
   ]
  },
  {
   "cell_type": "code",
   "execution_count": 120,
   "id": "4a4c6651",
   "metadata": {},
   "outputs": [],
   "source": [
    "host_tree_subset = TreeNode.read(join(out_dir,'annotated_host_tree.tre'))"
   ]
  },
  {
   "cell_type": "code",
   "execution_count": 121,
   "id": "6948a064",
   "metadata": {},
   "outputs": [],
   "source": [
    "node_df_pearson = pd.read_csv(join(out_dir, 'mantel.uwdist.pearson.csv'), index_col=0)\n",
    "node_df_spearman = pd.read_csv(join(out_dir, 'mantel.uwdist.spearman.csv'), index_col=0)\n",
    "node_df_pearson_partial = pd.read_csv(join(out_dir, 'mantel_partial.uwdist.pearson.csv'), index_col=0)\n",
    "node_df_spearman_partial = pd.read_csv(join(out_dir, 'mantel_partial.uwdist.spearman.csv'), index_col=0)"
   ]
  },
  {
   "cell_type": "code",
   "execution_count": 122,
   "id": "a75d3fe9",
   "metadata": {},
   "outputs": [],
   "source": [
    "def node_values(tips, tree, node_df, tree_dm, dist_dm):\n",
    "    node_name = tree.lca(tips).name\n",
    "    \n",
    "    r = node_df_pearson.loc[node_name, 'r']\n",
    "    p = node_df_pearson.loc[node_name, 'p']\n",
    "    \n",
    "    pats = patristic_dm.filter(tips)\n",
    "    dsts = dm_subset.filter(tips)\n",
    "\n",
    "    x = pats.to_series()\n",
    "    y = dsts.to_series()\n",
    "\n",
    "    slope, _, _, _, _ = linregress(x, y)\n",
    "    \n",
    "    plot = sns.lmplot('x',\n",
    "                      'y',\n",
    "                      pd.DataFrame({'x': x, 'y': y}).reset_index(),\n",
    "                      scatter_kws={'alpha':0.1})\n",
    "    plt.ylim(0.5, 1.05)\n",
    "\n",
    "    print((\"r: {r}\\n\"\n",
    "       \"p: {p}\\n\"\n",
    "       \"m: {m:8.7f}\\n\").format(r=r, p=p, m=slope))\n",
    "    \n",
    "#     plot"
   ]
  },
  {
   "cell_type": "code",
   "execution_count": 123,
   "id": "d27a1866",
   "metadata": {
    "scrolled": true
   },
   "outputs": [
    {
     "ename": "KeyError",
     "evalue": "None",
     "output_type": "error",
     "traceback": [
      "\u001b[0;31m---------------------------------------------------------------------------\u001b[0m",
      "\u001b[0;31mTypeError\u001b[0m                                 Traceback (most recent call last)",
      "\u001b[0;32mpandas/_libs/index.pyx\u001b[0m in \u001b[0;36mpandas._libs.index.IndexEngine.get_loc\u001b[0;34m()\u001b[0m\n",
      "\u001b[0;32mpandas/_libs/hashtable_class_helper.pxi\u001b[0m in \u001b[0;36mpandas._libs.hashtable.Float64HashTable.get_item\u001b[0;34m()\u001b[0m\n",
      "\u001b[0;31mTypeError\u001b[0m: must be real number, not NoneType",
      "\nDuring handling of the above exception, another exception occurred:\n",
      "\u001b[0;31mKeyError\u001b[0m                                  Traceback (most recent call last)",
      "\u001b[0;32m~/miniconda3/envs/qiime2-2021.4/lib/python3.8/site-packages/pandas/core/indexes/base.py\u001b[0m in \u001b[0;36mget_loc\u001b[0;34m(self, key, method, tolerance)\u001b[0m\n\u001b[1;32m   3079\u001b[0m             \u001b[0;32mtry\u001b[0m\u001b[0;34m:\u001b[0m\u001b[0;34m\u001b[0m\u001b[0;34m\u001b[0m\u001b[0m\n\u001b[0;32m-> 3080\u001b[0;31m                 \u001b[0;32mreturn\u001b[0m \u001b[0mself\u001b[0m\u001b[0;34m.\u001b[0m\u001b[0m_engine\u001b[0m\u001b[0;34m.\u001b[0m\u001b[0mget_loc\u001b[0m\u001b[0;34m(\u001b[0m\u001b[0mcasted_key\u001b[0m\u001b[0;34m)\u001b[0m\u001b[0;34m\u001b[0m\u001b[0;34m\u001b[0m\u001b[0m\n\u001b[0m\u001b[1;32m   3081\u001b[0m             \u001b[0;32mexcept\u001b[0m \u001b[0mKeyError\u001b[0m \u001b[0;32mas\u001b[0m \u001b[0merr\u001b[0m\u001b[0;34m:\u001b[0m\u001b[0;34m\u001b[0m\u001b[0;34m\u001b[0m\u001b[0m\n",
      "\u001b[0;32mpandas/_libs/index.pyx\u001b[0m in \u001b[0;36mpandas._libs.index.IndexEngine.get_loc\u001b[0;34m()\u001b[0m\n",
      "\u001b[0;32mpandas/_libs/index.pyx\u001b[0m in \u001b[0;36mpandas._libs.index.IndexEngine.get_loc\u001b[0;34m()\u001b[0m\n",
      "\u001b[0;31mKeyError\u001b[0m: None",
      "\nThe above exception was the direct cause of the following exception:\n",
      "\u001b[0;31mKeyError\u001b[0m                                  Traceback (most recent call last)",
      "\u001b[0;32m<ipython-input-123-e3d4873d4c34>\u001b[0m in \u001b[0;36m<module>\u001b[0;34m\u001b[0m\n\u001b[1;32m      1\u001b[0m \u001b[0mtips\u001b[0m \u001b[0;34m=\u001b[0m \u001b[0mset\u001b[0m\u001b[0;34m(\u001b[0m\u001b[0mhost_md\u001b[0m\u001b[0;34m.\u001b[0m\u001b[0mloc\u001b[0m\u001b[0;34m[\u001b[0m\u001b[0mhost_md\u001b[0m\u001b[0;34m[\u001b[0m\u001b[0;34m'host'\u001b[0m\u001b[0;34m]\u001b[0m \u001b[0;34m==\u001b[0m \u001b[0;34m'Actinopterygii'\u001b[0m\u001b[0;34m,\u001b[0m\u001b[0;34m'treetax'\u001b[0m\u001b[0;34m]\u001b[0m\u001b[0;34m)\u001b[0m \u001b[0;34m&\u001b[0m \u001b[0mset\u001b[0m\u001b[0;34m(\u001b[0m\u001b[0mhost_subset\u001b[0m\u001b[0;34m)\u001b[0m\u001b[0;34m\u001b[0m\u001b[0;34m\u001b[0m\u001b[0m\n\u001b[1;32m      2\u001b[0m \u001b[0;34m\u001b[0m\u001b[0m\n\u001b[0;32m----> 3\u001b[0;31m \u001b[0mnode_values\u001b[0m\u001b[0;34m(\u001b[0m\u001b[0mtips\u001b[0m\u001b[0;34m,\u001b[0m \u001b[0mhost_tree_subset\u001b[0m\u001b[0;34m,\u001b[0m \u001b[0mnode_df_pearson\u001b[0m\u001b[0;34m,\u001b[0m \u001b[0mpatristic_dm\u001b[0m\u001b[0;34m,\u001b[0m \u001b[0mdm_subset\u001b[0m\u001b[0;34m)\u001b[0m\u001b[0;34m\u001b[0m\u001b[0;34m\u001b[0m\u001b[0m\n\u001b[0m",
      "\u001b[0;32m<ipython-input-122-14c8273285bc>\u001b[0m in \u001b[0;36mnode_values\u001b[0;34m(tips, tree, node_df, tree_dm, dist_dm)\u001b[0m\n\u001b[1;32m      2\u001b[0m     \u001b[0mnode_name\u001b[0m \u001b[0;34m=\u001b[0m \u001b[0mtree\u001b[0m\u001b[0;34m.\u001b[0m\u001b[0mlca\u001b[0m\u001b[0;34m(\u001b[0m\u001b[0mtips\u001b[0m\u001b[0;34m)\u001b[0m\u001b[0;34m.\u001b[0m\u001b[0mname\u001b[0m\u001b[0;34m\u001b[0m\u001b[0;34m\u001b[0m\u001b[0m\n\u001b[1;32m      3\u001b[0m \u001b[0;34m\u001b[0m\u001b[0m\n\u001b[0;32m----> 4\u001b[0;31m     \u001b[0mr\u001b[0m \u001b[0;34m=\u001b[0m \u001b[0mnode_df_pearson\u001b[0m\u001b[0;34m.\u001b[0m\u001b[0mloc\u001b[0m\u001b[0;34m[\u001b[0m\u001b[0mnode_name\u001b[0m\u001b[0;34m,\u001b[0m \u001b[0;34m'r'\u001b[0m\u001b[0;34m]\u001b[0m\u001b[0;34m\u001b[0m\u001b[0;34m\u001b[0m\u001b[0m\n\u001b[0m\u001b[1;32m      5\u001b[0m     \u001b[0mp\u001b[0m \u001b[0;34m=\u001b[0m \u001b[0mnode_df_pearson\u001b[0m\u001b[0;34m.\u001b[0m\u001b[0mloc\u001b[0m\u001b[0;34m[\u001b[0m\u001b[0mnode_name\u001b[0m\u001b[0;34m,\u001b[0m \u001b[0;34m'p'\u001b[0m\u001b[0;34m]\u001b[0m\u001b[0;34m\u001b[0m\u001b[0;34m\u001b[0m\u001b[0m\n\u001b[1;32m      6\u001b[0m \u001b[0;34m\u001b[0m\u001b[0m\n",
      "\u001b[0;32m~/miniconda3/envs/qiime2-2021.4/lib/python3.8/site-packages/pandas/core/indexing.py\u001b[0m in \u001b[0;36m__getitem__\u001b[0;34m(self, key)\u001b[0m\n\u001b[1;32m    887\u001b[0m                     \u001b[0;31m# AttributeError for IntervalTree get_value\u001b[0m\u001b[0;34m\u001b[0m\u001b[0;34m\u001b[0m\u001b[0;34m\u001b[0m\u001b[0m\n\u001b[1;32m    888\u001b[0m                     \u001b[0;32mreturn\u001b[0m \u001b[0mself\u001b[0m\u001b[0;34m.\u001b[0m\u001b[0mobj\u001b[0m\u001b[0;34m.\u001b[0m\u001b[0m_get_value\u001b[0m\u001b[0;34m(\u001b[0m\u001b[0;34m*\u001b[0m\u001b[0mkey\u001b[0m\u001b[0;34m,\u001b[0m \u001b[0mtakeable\u001b[0m\u001b[0;34m=\u001b[0m\u001b[0mself\u001b[0m\u001b[0;34m.\u001b[0m\u001b[0m_takeable\u001b[0m\u001b[0;34m)\u001b[0m\u001b[0;34m\u001b[0m\u001b[0;34m\u001b[0m\u001b[0m\n\u001b[0;32m--> 889\u001b[0;31m             \u001b[0;32mreturn\u001b[0m \u001b[0mself\u001b[0m\u001b[0;34m.\u001b[0m\u001b[0m_getitem_tuple\u001b[0m\u001b[0;34m(\u001b[0m\u001b[0mkey\u001b[0m\u001b[0;34m)\u001b[0m\u001b[0;34m\u001b[0m\u001b[0;34m\u001b[0m\u001b[0m\n\u001b[0m\u001b[1;32m    890\u001b[0m         \u001b[0;32melse\u001b[0m\u001b[0;34m:\u001b[0m\u001b[0;34m\u001b[0m\u001b[0;34m\u001b[0m\u001b[0m\n\u001b[1;32m    891\u001b[0m             \u001b[0;31m# we by definition only have the 0th axis\u001b[0m\u001b[0;34m\u001b[0m\u001b[0;34m\u001b[0m\u001b[0;34m\u001b[0m\u001b[0m\n",
      "\u001b[0;32m~/miniconda3/envs/qiime2-2021.4/lib/python3.8/site-packages/pandas/core/indexing.py\u001b[0m in \u001b[0;36m_getitem_tuple\u001b[0;34m(self, tup)\u001b[0m\n\u001b[1;32m   1058\u001b[0m     \u001b[0;32mdef\u001b[0m \u001b[0m_getitem_tuple\u001b[0m\u001b[0;34m(\u001b[0m\u001b[0mself\u001b[0m\u001b[0;34m,\u001b[0m \u001b[0mtup\u001b[0m\u001b[0;34m:\u001b[0m \u001b[0mTuple\u001b[0m\u001b[0;34m)\u001b[0m\u001b[0;34m:\u001b[0m\u001b[0;34m\u001b[0m\u001b[0;34m\u001b[0m\u001b[0m\n\u001b[1;32m   1059\u001b[0m         \u001b[0;32mwith\u001b[0m \u001b[0msuppress\u001b[0m\u001b[0;34m(\u001b[0m\u001b[0mIndexingError\u001b[0m\u001b[0;34m)\u001b[0m\u001b[0;34m:\u001b[0m\u001b[0;34m\u001b[0m\u001b[0;34m\u001b[0m\u001b[0m\n\u001b[0;32m-> 1060\u001b[0;31m             \u001b[0;32mreturn\u001b[0m \u001b[0mself\u001b[0m\u001b[0;34m.\u001b[0m\u001b[0m_getitem_lowerdim\u001b[0m\u001b[0;34m(\u001b[0m\u001b[0mtup\u001b[0m\u001b[0;34m)\u001b[0m\u001b[0;34m\u001b[0m\u001b[0;34m\u001b[0m\u001b[0m\n\u001b[0m\u001b[1;32m   1061\u001b[0m \u001b[0;34m\u001b[0m\u001b[0m\n\u001b[1;32m   1062\u001b[0m         \u001b[0;31m# no multi-index, so validate all of the indexers\u001b[0m\u001b[0;34m\u001b[0m\u001b[0;34m\u001b[0m\u001b[0;34m\u001b[0m\u001b[0m\n",
      "\u001b[0;32m~/miniconda3/envs/qiime2-2021.4/lib/python3.8/site-packages/pandas/core/indexing.py\u001b[0m in \u001b[0;36m_getitem_lowerdim\u001b[0;34m(self, tup)\u001b[0m\n\u001b[1;32m    805\u001b[0m                 \u001b[0;31m# We don't need to check for tuples here because those are\u001b[0m\u001b[0;34m\u001b[0m\u001b[0;34m\u001b[0m\u001b[0;34m\u001b[0m\u001b[0m\n\u001b[1;32m    806\u001b[0m                 \u001b[0;31m#  caught by the _is_nested_tuple_indexer check above.\u001b[0m\u001b[0;34m\u001b[0m\u001b[0;34m\u001b[0m\u001b[0;34m\u001b[0m\u001b[0m\n\u001b[0;32m--> 807\u001b[0;31m                 \u001b[0msection\u001b[0m \u001b[0;34m=\u001b[0m \u001b[0mself\u001b[0m\u001b[0;34m.\u001b[0m\u001b[0m_getitem_axis\u001b[0m\u001b[0;34m(\u001b[0m\u001b[0mkey\u001b[0m\u001b[0;34m,\u001b[0m \u001b[0maxis\u001b[0m\u001b[0;34m=\u001b[0m\u001b[0mi\u001b[0m\u001b[0;34m)\u001b[0m\u001b[0;34m\u001b[0m\u001b[0;34m\u001b[0m\u001b[0m\n\u001b[0m\u001b[1;32m    808\u001b[0m \u001b[0;34m\u001b[0m\u001b[0m\n\u001b[1;32m    809\u001b[0m                 \u001b[0;31m# We should never have a scalar section here, because\u001b[0m\u001b[0;34m\u001b[0m\u001b[0;34m\u001b[0m\u001b[0;34m\u001b[0m\u001b[0m\n",
      "\u001b[0;32m~/miniconda3/envs/qiime2-2021.4/lib/python3.8/site-packages/pandas/core/indexing.py\u001b[0m in \u001b[0;36m_getitem_axis\u001b[0;34m(self, key, axis)\u001b[0m\n\u001b[1;32m   1122\u001b[0m         \u001b[0;31m# fall thru to straight lookup\u001b[0m\u001b[0;34m\u001b[0m\u001b[0;34m\u001b[0m\u001b[0;34m\u001b[0m\u001b[0m\n\u001b[1;32m   1123\u001b[0m         \u001b[0mself\u001b[0m\u001b[0;34m.\u001b[0m\u001b[0m_validate_key\u001b[0m\u001b[0;34m(\u001b[0m\u001b[0mkey\u001b[0m\u001b[0;34m,\u001b[0m \u001b[0maxis\u001b[0m\u001b[0;34m)\u001b[0m\u001b[0;34m\u001b[0m\u001b[0;34m\u001b[0m\u001b[0m\n\u001b[0;32m-> 1124\u001b[0;31m         \u001b[0;32mreturn\u001b[0m \u001b[0mself\u001b[0m\u001b[0;34m.\u001b[0m\u001b[0m_get_label\u001b[0m\u001b[0;34m(\u001b[0m\u001b[0mkey\u001b[0m\u001b[0;34m,\u001b[0m \u001b[0maxis\u001b[0m\u001b[0;34m=\u001b[0m\u001b[0maxis\u001b[0m\u001b[0;34m)\u001b[0m\u001b[0;34m\u001b[0m\u001b[0;34m\u001b[0m\u001b[0m\n\u001b[0m\u001b[1;32m   1125\u001b[0m \u001b[0;34m\u001b[0m\u001b[0m\n\u001b[1;32m   1126\u001b[0m     \u001b[0;32mdef\u001b[0m \u001b[0m_get_slice_axis\u001b[0m\u001b[0;34m(\u001b[0m\u001b[0mself\u001b[0m\u001b[0;34m,\u001b[0m \u001b[0mslice_obj\u001b[0m\u001b[0;34m:\u001b[0m \u001b[0mslice\u001b[0m\u001b[0;34m,\u001b[0m \u001b[0maxis\u001b[0m\u001b[0;34m:\u001b[0m \u001b[0mint\u001b[0m\u001b[0;34m)\u001b[0m\u001b[0;34m:\u001b[0m\u001b[0;34m\u001b[0m\u001b[0;34m\u001b[0m\u001b[0m\n",
      "\u001b[0;32m~/miniconda3/envs/qiime2-2021.4/lib/python3.8/site-packages/pandas/core/indexing.py\u001b[0m in \u001b[0;36m_get_label\u001b[0;34m(self, label, axis)\u001b[0m\n\u001b[1;32m   1071\u001b[0m     \u001b[0;32mdef\u001b[0m \u001b[0m_get_label\u001b[0m\u001b[0;34m(\u001b[0m\u001b[0mself\u001b[0m\u001b[0;34m,\u001b[0m \u001b[0mlabel\u001b[0m\u001b[0;34m,\u001b[0m \u001b[0maxis\u001b[0m\u001b[0;34m:\u001b[0m \u001b[0mint\u001b[0m\u001b[0;34m)\u001b[0m\u001b[0;34m:\u001b[0m\u001b[0;34m\u001b[0m\u001b[0;34m\u001b[0m\u001b[0m\n\u001b[1;32m   1072\u001b[0m         \u001b[0;31m# GH#5667 this will fail if the label is not present in the axis.\u001b[0m\u001b[0;34m\u001b[0m\u001b[0;34m\u001b[0m\u001b[0;34m\u001b[0m\u001b[0m\n\u001b[0;32m-> 1073\u001b[0;31m         \u001b[0;32mreturn\u001b[0m \u001b[0mself\u001b[0m\u001b[0;34m.\u001b[0m\u001b[0mobj\u001b[0m\u001b[0;34m.\u001b[0m\u001b[0mxs\u001b[0m\u001b[0;34m(\u001b[0m\u001b[0mlabel\u001b[0m\u001b[0;34m,\u001b[0m \u001b[0maxis\u001b[0m\u001b[0;34m=\u001b[0m\u001b[0maxis\u001b[0m\u001b[0;34m)\u001b[0m\u001b[0;34m\u001b[0m\u001b[0;34m\u001b[0m\u001b[0m\n\u001b[0m\u001b[1;32m   1074\u001b[0m \u001b[0;34m\u001b[0m\u001b[0m\n\u001b[1;32m   1075\u001b[0m     \u001b[0;32mdef\u001b[0m \u001b[0m_handle_lowerdim_multi_index_axis0\u001b[0m\u001b[0;34m(\u001b[0m\u001b[0mself\u001b[0m\u001b[0;34m,\u001b[0m \u001b[0mtup\u001b[0m\u001b[0;34m:\u001b[0m \u001b[0mTuple\u001b[0m\u001b[0;34m)\u001b[0m\u001b[0;34m:\u001b[0m\u001b[0;34m\u001b[0m\u001b[0;34m\u001b[0m\u001b[0m\n",
      "\u001b[0;32m~/miniconda3/envs/qiime2-2021.4/lib/python3.8/site-packages/pandas/core/generic.py\u001b[0m in \u001b[0;36mxs\u001b[0;34m(self, key, axis, level, drop_level)\u001b[0m\n\u001b[1;32m   3737\u001b[0m                 \u001b[0;32mraise\u001b[0m \u001b[0mTypeError\u001b[0m\u001b[0;34m(\u001b[0m\u001b[0;34mf\"Expected label or tuple of labels, got {key}\"\u001b[0m\u001b[0;34m)\u001b[0m \u001b[0;32mfrom\u001b[0m \u001b[0me\u001b[0m\u001b[0;34m\u001b[0m\u001b[0;34m\u001b[0m\u001b[0m\n\u001b[1;32m   3738\u001b[0m         \u001b[0;32melse\u001b[0m\u001b[0;34m:\u001b[0m\u001b[0;34m\u001b[0m\u001b[0;34m\u001b[0m\u001b[0m\n\u001b[0;32m-> 3739\u001b[0;31m             \u001b[0mloc\u001b[0m \u001b[0;34m=\u001b[0m \u001b[0mindex\u001b[0m\u001b[0;34m.\u001b[0m\u001b[0mget_loc\u001b[0m\u001b[0;34m(\u001b[0m\u001b[0mkey\u001b[0m\u001b[0;34m)\u001b[0m\u001b[0;34m\u001b[0m\u001b[0;34m\u001b[0m\u001b[0m\n\u001b[0m\u001b[1;32m   3740\u001b[0m \u001b[0;34m\u001b[0m\u001b[0m\n\u001b[1;32m   3741\u001b[0m             \u001b[0;32mif\u001b[0m \u001b[0misinstance\u001b[0m\u001b[0;34m(\u001b[0m\u001b[0mloc\u001b[0m\u001b[0;34m,\u001b[0m \u001b[0mnp\u001b[0m\u001b[0;34m.\u001b[0m\u001b[0mndarray\u001b[0m\u001b[0;34m)\u001b[0m\u001b[0;34m:\u001b[0m\u001b[0;34m\u001b[0m\u001b[0;34m\u001b[0m\u001b[0m\n",
      "\u001b[0;32m~/miniconda3/envs/qiime2-2021.4/lib/python3.8/site-packages/pandas/core/indexes/numeric.py\u001b[0m in \u001b[0;36mget_loc\u001b[0;34m(self, key, method, tolerance)\u001b[0m\n\u001b[1;32m    393\u001b[0m             \u001b[0;32mreturn\u001b[0m \u001b[0mnan_idxs\u001b[0m\u001b[0;34m\u001b[0m\u001b[0;34m\u001b[0m\u001b[0m\n\u001b[1;32m    394\u001b[0m \u001b[0;34m\u001b[0m\u001b[0m\n\u001b[0;32m--> 395\u001b[0;31m         \u001b[0;32mreturn\u001b[0m \u001b[0msuper\u001b[0m\u001b[0;34m(\u001b[0m\u001b[0;34m)\u001b[0m\u001b[0;34m.\u001b[0m\u001b[0mget_loc\u001b[0m\u001b[0;34m(\u001b[0m\u001b[0mkey\u001b[0m\u001b[0;34m,\u001b[0m \u001b[0mmethod\u001b[0m\u001b[0;34m=\u001b[0m\u001b[0mmethod\u001b[0m\u001b[0;34m,\u001b[0m \u001b[0mtolerance\u001b[0m\u001b[0;34m=\u001b[0m\u001b[0mtolerance\u001b[0m\u001b[0;34m)\u001b[0m\u001b[0;34m\u001b[0m\u001b[0;34m\u001b[0m\u001b[0m\n\u001b[0m\u001b[1;32m    396\u001b[0m \u001b[0;34m\u001b[0m\u001b[0m\n\u001b[1;32m    397\u001b[0m     \u001b[0;31m# ----------------------------------------------------------------\u001b[0m\u001b[0;34m\u001b[0m\u001b[0;34m\u001b[0m\u001b[0;34m\u001b[0m\u001b[0m\n",
      "\u001b[0;32m~/miniconda3/envs/qiime2-2021.4/lib/python3.8/site-packages/pandas/core/indexes/base.py\u001b[0m in \u001b[0;36mget_loc\u001b[0;34m(self, key, method, tolerance)\u001b[0m\n\u001b[1;32m   3080\u001b[0m                 \u001b[0;32mreturn\u001b[0m \u001b[0mself\u001b[0m\u001b[0;34m.\u001b[0m\u001b[0m_engine\u001b[0m\u001b[0;34m.\u001b[0m\u001b[0mget_loc\u001b[0m\u001b[0;34m(\u001b[0m\u001b[0mcasted_key\u001b[0m\u001b[0;34m)\u001b[0m\u001b[0;34m\u001b[0m\u001b[0;34m\u001b[0m\u001b[0m\n\u001b[1;32m   3081\u001b[0m             \u001b[0;32mexcept\u001b[0m \u001b[0mKeyError\u001b[0m \u001b[0;32mas\u001b[0m \u001b[0merr\u001b[0m\u001b[0;34m:\u001b[0m\u001b[0;34m\u001b[0m\u001b[0;34m\u001b[0m\u001b[0m\n\u001b[0;32m-> 3082\u001b[0;31m                 \u001b[0;32mraise\u001b[0m \u001b[0mKeyError\u001b[0m\u001b[0;34m(\u001b[0m\u001b[0mkey\u001b[0m\u001b[0;34m)\u001b[0m \u001b[0;32mfrom\u001b[0m \u001b[0merr\u001b[0m\u001b[0;34m\u001b[0m\u001b[0;34m\u001b[0m\u001b[0m\n\u001b[0m\u001b[1;32m   3083\u001b[0m \u001b[0;34m\u001b[0m\u001b[0m\n\u001b[1;32m   3084\u001b[0m         \u001b[0;32mif\u001b[0m \u001b[0mtolerance\u001b[0m \u001b[0;32mis\u001b[0m \u001b[0;32mnot\u001b[0m \u001b[0;32mNone\u001b[0m\u001b[0;34m:\u001b[0m\u001b[0;34m\u001b[0m\u001b[0;34m\u001b[0m\u001b[0m\n",
      "\u001b[0;31mKeyError\u001b[0m: None"
     ]
    }
   ],
   "source": [
    "tips = set(host_md.loc[host_md['host'] == 'Actinopterygii','treetax']) & set(host_subset)\n",
    "\n",
    "node_values(tips, host_tree_subset, node_df_pearson, patristic_dm, dm_subset)"
   ]
  },
  {
   "cell_type": "code",
   "execution_count": 131,
   "id": "6947c93a",
   "metadata": {},
   "outputs": [],
   "source": [
    "itol_dir = '../samde/python/itolfish'"
   ]
  },
  {
   "cell_type": "code",
   "execution_count": 132,
   "id": "c8c30d94",
   "metadata": {},
   "outputs": [],
   "source": [
    "\n",
    "import matplotlib as mpl"
   ]
  },
  {
   "cell_type": "code",
   "execution_count": 133,
   "id": "ff5191ef",
   "metadata": {},
   "outputs": [
    {
     "data": {
      "text/plain": [
       "0.259576881288455"
      ]
     },
     "execution_count": 133,
     "metadata": {},
     "output_type": "execute_result"
    }
   ],
   "source": [
    "node_df_pearson['r'].max()"
   ]
  },
  {
   "cell_type": "code",
   "execution_count": 134,
   "id": "ad6078a4",
   "metadata": {},
   "outputs": [
    {
     "data": {
      "text/plain": [
       "-0.0477444654222307"
      ]
     },
     "execution_count": 134,
     "metadata": {},
     "output_type": "execute_result"
    }
   ],
   "source": [
    "node_df_spearman['r'].max()"
   ]
  },
  {
   "cell_type": "code",
   "execution_count": 135,
   "id": "cdcfaf66",
   "metadata": {},
   "outputs": [
    {
     "data": {
      "text/plain": [
       "0.7986208431028278"
      ]
     },
     "execution_count": 135,
     "metadata": {},
     "output_type": "execute_result"
    }
   ],
   "source": [
    "\n",
    "node_df_pearson_partial['r'].max()"
   ]
  },
  {
   "cell_type": "code",
   "execution_count": 136,
   "id": "b093e4b7",
   "metadata": {},
   "outputs": [
    {
     "data": {
      "text/plain": [
       "-0.0436965012881243"
      ]
     },
     "execution_count": 136,
     "metadata": {},
     "output_type": "execute_result"
    }
   ],
   "source": [
    "node_df_spearman_partial['r'].max()"
   ]
  },
  {
   "cell_type": "code",
   "execution_count": 137,
   "id": "c4a836c2",
   "metadata": {},
   "outputs": [
    {
     "data": {
      "text/plain": [
       "<matplotlib.colorbar.Colorbar at 0x7f865421a4c0>"
      ]
     },
     "execution_count": 137,
     "metadata": {},
     "output_type": "execute_result"
    },
    {
     "data": {
      "image/png": "[encoded data removed]",
      "text/plain": [
       "<Figure size 432x288 with 2 Axes>"
      ]
     },
     "metadata": {
      "needs_background": "light"
     },
     "output_type": "display_data"
    }
   ],
   "source": [
    "# create dummy invisible image\n",
    "# (use the colormap you want to have on the colorbar)\n",
    "cmax = node_df_pearson['r'].max()\n",
    "img = plt.imshow(np.array([[0,cmax]]), cmap=mpl.cm.plasma)\n",
    "img.set_visible(False)\n",
    "\n",
    "plt.colorbar(orientation=\"vertical\")\n",
    "\n",
    "# add any other things you want to the figure.\n",
    "#plt.plot(np.random.rand(30))"
   ]
  },
  {
   "cell_type": "code",
   "execution_count": 138,
   "id": "19dc4094",
   "metadata": {},
   "outputs": [],
   "source": [
    "def colorbar(fp,\n",
    "             cmax=1,\n",
    "             size=(4,.7)):\n",
    "    a = np.array([[0,cmax]])\n",
    "    pl.figure(figsize=size)\n",
    "    img = pl.imshow(a, cmap=mpl.cm.plasma)\n",
    "    pl.gca().set_visible(False)\n",
    "    cax = pl.axes([0.1, 0.4, 0.8, 0.5])\n",
    "    pl.colorbar(orientation='horizontal', cax=cax)\n",
    "    pl.savefig(fp)"
   ]
  },
  {
   "cell_type": "code",
   "execution_count": 139,
   "id": "f3e451b6",
   "metadata": {},
   "outputs": [
    {
     "ename": "FileNotFoundError",
     "evalue": "[Errno 2] No such file or directory: '../samde/python/itolfish/mantel.uwdist.pearson.itol-r_colorbar.pdf'",
     "output_type": "error",
     "traceback": [
      "\u001b[0;31m---------------------------------------------------------------------------\u001b[0m",
      "\u001b[0;31mFileNotFoundError\u001b[0m                         Traceback (most recent call last)",
      "\u001b[0;32m<ipython-input-139-aea79f10ed19>\u001b[0m in \u001b[0;36m<module>\u001b[0;34m\u001b[0m\n\u001b[0;32m----> 1\u001b[0;31m colorbar(join(itol_dir, 'mantel.uwdist.pearson.itol-r_colorbar.pdf'),\n\u001b[0m\u001b[1;32m      2\u001b[0m          \u001b[0mcmax\u001b[0m\u001b[0;34m=\u001b[0m\u001b[0mnode_df_pearson\u001b[0m\u001b[0;34m[\u001b[0m\u001b[0;34m'r'\u001b[0m\u001b[0;34m]\u001b[0m\u001b[0;34m.\u001b[0m\u001b[0mmax\u001b[0m\u001b[0;34m(\u001b[0m\u001b[0;34m)\u001b[0m\u001b[0;34m,\u001b[0m\u001b[0;34m\u001b[0m\u001b[0;34m\u001b[0m\u001b[0m\n\u001b[1;32m      3\u001b[0m          size=(2.5,.6))\n",
      "\u001b[0;32m<ipython-input-138-f811e6a72fa8>\u001b[0m in \u001b[0;36mcolorbar\u001b[0;34m(fp, cmax, size)\u001b[0m\n\u001b[1;32m      8\u001b[0m     \u001b[0mcax\u001b[0m \u001b[0;34m=\u001b[0m \u001b[0mpl\u001b[0m\u001b[0;34m.\u001b[0m\u001b[0maxes\u001b[0m\u001b[0;34m(\u001b[0m\u001b[0;34m[\u001b[0m\u001b[0;36m0.1\u001b[0m\u001b[0;34m,\u001b[0m \u001b[0;36m0.4\u001b[0m\u001b[0;34m,\u001b[0m \u001b[0;36m0.8\u001b[0m\u001b[0;34m,\u001b[0m \u001b[0;36m0.5\u001b[0m\u001b[0;34m]\u001b[0m\u001b[0;34m)\u001b[0m\u001b[0;34m\u001b[0m\u001b[0;34m\u001b[0m\u001b[0m\n\u001b[1;32m      9\u001b[0m     \u001b[0mpl\u001b[0m\u001b[0;34m.\u001b[0m\u001b[0mcolorbar\u001b[0m\u001b[0;34m(\u001b[0m\u001b[0morientation\u001b[0m\u001b[0;34m=\u001b[0m\u001b[0;34m'horizontal'\u001b[0m\u001b[0;34m,\u001b[0m \u001b[0mcax\u001b[0m\u001b[0;34m=\u001b[0m\u001b[0mcax\u001b[0m\u001b[0;34m)\u001b[0m\u001b[0;34m\u001b[0m\u001b[0;34m\u001b[0m\u001b[0m\n\u001b[0;32m---> 10\u001b[0;31m     \u001b[0mpl\u001b[0m\u001b[0;34m.\u001b[0m\u001b[0msavefig\u001b[0m\u001b[0;34m(\u001b[0m\u001b[0mfp\u001b[0m\u001b[0;34m)\u001b[0m\u001b[0;34m\u001b[0m\u001b[0;34m\u001b[0m\u001b[0m\n\u001b[0m",
      "\u001b[0;32m~/miniconda3/envs/qiime2-2021.4/lib/python3.8/site-packages/matplotlib/pyplot.py\u001b[0m in \u001b[0;36msavefig\u001b[0;34m(*args, **kwargs)\u001b[0m\n\u001b[1;32m    935\u001b[0m \u001b[0;32mdef\u001b[0m \u001b[0msavefig\u001b[0m\u001b[0;34m(\u001b[0m\u001b[0;34m*\u001b[0m\u001b[0margs\u001b[0m\u001b[0;34m,\u001b[0m \u001b[0;34m**\u001b[0m\u001b[0mkwargs\u001b[0m\u001b[0;34m)\u001b[0m\u001b[0;34m:\u001b[0m\u001b[0;34m\u001b[0m\u001b[0;34m\u001b[0m\u001b[0m\n\u001b[1;32m    936\u001b[0m     \u001b[0mfig\u001b[0m \u001b[0;34m=\u001b[0m \u001b[0mgcf\u001b[0m\u001b[0;34m(\u001b[0m\u001b[0;34m)\u001b[0m\u001b[0;34m\u001b[0m\u001b[0;34m\u001b[0m\u001b[0m\n\u001b[0;32m--> 937\u001b[0;31m     \u001b[0mres\u001b[0m \u001b[0;34m=\u001b[0m \u001b[0mfig\u001b[0m\u001b[0;34m.\u001b[0m\u001b[0msavefig\u001b[0m\u001b[0;34m(\u001b[0m\u001b[0;34m*\u001b[0m\u001b[0margs\u001b[0m\u001b[0;34m,\u001b[0m \u001b[0;34m**\u001b[0m\u001b[0mkwargs\u001b[0m\u001b[0;34m)\u001b[0m\u001b[0;34m\u001b[0m\u001b[0;34m\u001b[0m\u001b[0m\n\u001b[0m\u001b[1;32m    938\u001b[0m     \u001b[0mfig\u001b[0m\u001b[0;34m.\u001b[0m\u001b[0mcanvas\u001b[0m\u001b[0;34m.\u001b[0m\u001b[0mdraw_idle\u001b[0m\u001b[0;34m(\u001b[0m\u001b[0;34m)\u001b[0m   \u001b[0;31m# need this if 'transparent=True' to reset colors\u001b[0m\u001b[0;34m\u001b[0m\u001b[0;34m\u001b[0m\u001b[0m\n\u001b[1;32m    939\u001b[0m     \u001b[0;32mreturn\u001b[0m \u001b[0mres\u001b[0m\u001b[0;34m\u001b[0m\u001b[0;34m\u001b[0m\u001b[0m\n",
      "\u001b[0;32m~/miniconda3/envs/qiime2-2021.4/lib/python3.8/site-packages/matplotlib/figure.py\u001b[0m in \u001b[0;36msavefig\u001b[0;34m(self, fname, transparent, **kwargs)\u001b[0m\n\u001b[1;32m   2960\u001b[0m                 \u001b[0mpatch\u001b[0m\u001b[0;34m.\u001b[0m\u001b[0mset_edgecolor\u001b[0m\u001b[0;34m(\u001b[0m\u001b[0;34m'none'\u001b[0m\u001b[0;34m)\u001b[0m\u001b[0;34m\u001b[0m\u001b[0;34m\u001b[0m\u001b[0m\n\u001b[1;32m   2961\u001b[0m \u001b[0;34m\u001b[0m\u001b[0m\n\u001b[0;32m-> 2962\u001b[0;31m         \u001b[0mself\u001b[0m\u001b[0;34m.\u001b[0m\u001b[0mcanvas\u001b[0m\u001b[0;34m.\u001b[0m\u001b[0mprint_figure\u001b[0m\u001b[0;34m(\u001b[0m\u001b[0mfname\u001b[0m\u001b[0;34m,\u001b[0m \u001b[0;34m**\u001b[0m\u001b[0mkwargs\u001b[0m\u001b[0;34m)\u001b[0m\u001b[0;34m\u001b[0m\u001b[0;34m\u001b[0m\u001b[0m\n\u001b[0m\u001b[1;32m   2963\u001b[0m \u001b[0;34m\u001b[0m\u001b[0m\n\u001b[1;32m   2964\u001b[0m         \u001b[0;32mif\u001b[0m \u001b[0mtransparent\u001b[0m\u001b[0;34m:\u001b[0m\u001b[0;34m\u001b[0m\u001b[0;34m\u001b[0m\u001b[0m\n",
      "\u001b[0;32m~/miniconda3/envs/qiime2-2021.4/lib/python3.8/site-packages/matplotlib/backend_bases.py\u001b[0m in \u001b[0;36mprint_figure\u001b[0;34m(self, filename, dpi, facecolor, edgecolor, orientation, format, bbox_inches, pad_inches, bbox_extra_artists, backend, **kwargs)\u001b[0m\n\u001b[1;32m   2253\u001b[0m                 \u001b[0;31m# force the figure dpi to 72), so we need to set it again here.\u001b[0m\u001b[0;34m\u001b[0m\u001b[0;34m\u001b[0m\u001b[0;34m\u001b[0m\u001b[0m\n\u001b[1;32m   2254\u001b[0m                 \u001b[0;32mwith\u001b[0m \u001b[0mcbook\u001b[0m\u001b[0;34m.\u001b[0m\u001b[0m_setattr_cm\u001b[0m\u001b[0;34m(\u001b[0m\u001b[0mself\u001b[0m\u001b[0;34m.\u001b[0m\u001b[0mfigure\u001b[0m\u001b[0;34m,\u001b[0m \u001b[0mdpi\u001b[0m\u001b[0;34m=\u001b[0m\u001b[0mdpi\u001b[0m\u001b[0;34m)\u001b[0m\u001b[0;34m:\u001b[0m\u001b[0;34m\u001b[0m\u001b[0;34m\u001b[0m\u001b[0m\n\u001b[0;32m-> 2255\u001b[0;31m                     result = print_method(\n\u001b[0m\u001b[1;32m   2256\u001b[0m                         \u001b[0mfilename\u001b[0m\u001b[0;34m,\u001b[0m\u001b[0;34m\u001b[0m\u001b[0;34m\u001b[0m\u001b[0m\n\u001b[1;32m   2257\u001b[0m                         \u001b[0mfacecolor\u001b[0m\u001b[0;34m=\u001b[0m\u001b[0mfacecolor\u001b[0m\u001b[0;34m,\u001b[0m\u001b[0;34m\u001b[0m\u001b[0;34m\u001b[0m\u001b[0m\n",
      "\u001b[0;32m~/miniconda3/envs/qiime2-2021.4/lib/python3.8/site-packages/matplotlib/backend_bases.py\u001b[0m in \u001b[0;36mwrapper\u001b[0;34m(*args, **kwargs)\u001b[0m\n\u001b[1;32m   1667\u001b[0m             \u001b[0mkwargs\u001b[0m\u001b[0;34m.\u001b[0m\u001b[0mpop\u001b[0m\u001b[0;34m(\u001b[0m\u001b[0marg\u001b[0m\u001b[0;34m)\u001b[0m\u001b[0;34m\u001b[0m\u001b[0;34m\u001b[0m\u001b[0m\n\u001b[1;32m   1668\u001b[0m \u001b[0;34m\u001b[0m\u001b[0m\n\u001b[0;32m-> 1669\u001b[0;31m         \u001b[0;32mreturn\u001b[0m \u001b[0mfunc\u001b[0m\u001b[0;34m(\u001b[0m\u001b[0;34m*\u001b[0m\u001b[0margs\u001b[0m\u001b[0;34m,\u001b[0m \u001b[0;34m**\u001b[0m\u001b[0mkwargs\u001b[0m\u001b[0;34m)\u001b[0m\u001b[0;34m\u001b[0m\u001b[0;34m\u001b[0m\u001b[0m\n\u001b[0m\u001b[1;32m   1670\u001b[0m \u001b[0;34m\u001b[0m\u001b[0m\n\u001b[1;32m   1671\u001b[0m     \u001b[0;32mreturn\u001b[0m \u001b[0mwrapper\u001b[0m\u001b[0;34m\u001b[0m\u001b[0;34m\u001b[0m\u001b[0m\n",
      "\u001b[0;32m~/miniconda3/envs/qiime2-2021.4/lib/python3.8/site-packages/matplotlib/_api/deprecation.py\u001b[0m in \u001b[0;36mwrapper\u001b[0;34m(*inner_args, **inner_kwargs)\u001b[0m\n\u001b[1;32m    429\u001b[0m                          \u001b[0;32melse\u001b[0m \u001b[0mdeprecation_addendum\u001b[0m\u001b[0;34m,\u001b[0m\u001b[0;34m\u001b[0m\u001b[0;34m\u001b[0m\u001b[0m\n\u001b[1;32m    430\u001b[0m                 **kwargs)\n\u001b[0;32m--> 431\u001b[0;31m         \u001b[0;32mreturn\u001b[0m \u001b[0mfunc\u001b[0m\u001b[0;34m(\u001b[0m\u001b[0;34m*\u001b[0m\u001b[0minner_args\u001b[0m\u001b[0;34m,\u001b[0m \u001b[0;34m**\u001b[0m\u001b[0minner_kwargs\u001b[0m\u001b[0;34m)\u001b[0m\u001b[0;34m\u001b[0m\u001b[0;34m\u001b[0m\u001b[0m\n\u001b[0m\u001b[1;32m    432\u001b[0m \u001b[0;34m\u001b[0m\u001b[0m\n\u001b[1;32m    433\u001b[0m     \u001b[0;32mreturn\u001b[0m \u001b[0mwrapper\u001b[0m\u001b[0;34m\u001b[0m\u001b[0;34m\u001b[0m\u001b[0m\n",
      "\u001b[0;32m~/miniconda3/envs/qiime2-2021.4/lib/python3.8/site-packages/matplotlib/backends/backend_pdf.py\u001b[0m in \u001b[0;36mprint_pdf\u001b[0;34m(self, filename, dpi, bbox_inches_restore, metadata)\u001b[0m\n\u001b[1;32m   2716\u001b[0m             \u001b[0mfile\u001b[0m \u001b[0;34m=\u001b[0m \u001b[0mfilename\u001b[0m\u001b[0;34m.\u001b[0m\u001b[0m_file\u001b[0m\u001b[0;34m\u001b[0m\u001b[0;34m\u001b[0m\u001b[0m\n\u001b[1;32m   2717\u001b[0m         \u001b[0;32melse\u001b[0m\u001b[0;34m:\u001b[0m\u001b[0;34m\u001b[0m\u001b[0;34m\u001b[0m\u001b[0m\n\u001b[0;32m-> 2718\u001b[0;31m             \u001b[0mfile\u001b[0m \u001b[0;34m=\u001b[0m \u001b[0mPdfFile\u001b[0m\u001b[0;34m(\u001b[0m\u001b[0mfilename\u001b[0m\u001b[0;34m,\u001b[0m \u001b[0mmetadata\u001b[0m\u001b[0;34m=\u001b[0m\u001b[0mmetadata\u001b[0m\u001b[0;34m)\u001b[0m\u001b[0;34m\u001b[0m\u001b[0;34m\u001b[0m\u001b[0m\n\u001b[0m\u001b[1;32m   2719\u001b[0m         \u001b[0;32mtry\u001b[0m\u001b[0;34m:\u001b[0m\u001b[0;34m\u001b[0m\u001b[0;34m\u001b[0m\u001b[0m\n\u001b[1;32m   2720\u001b[0m             \u001b[0mfile\u001b[0m\u001b[0;34m.\u001b[0m\u001b[0mnewPage\u001b[0m\u001b[0;34m(\u001b[0m\u001b[0mwidth\u001b[0m\u001b[0;34m,\u001b[0m \u001b[0mheight\u001b[0m\u001b[0;34m)\u001b[0m\u001b[0;34m\u001b[0m\u001b[0;34m\u001b[0m\u001b[0m\n",
      "\u001b[0;32m~/miniconda3/envs/qiime2-2021.4/lib/python3.8/site-packages/matplotlib/backends/backend_pdf.py\u001b[0m in \u001b[0;36m__init__\u001b[0;34m(self, filename, metadata)\u001b[0m\n\u001b[1;32m    635\u001b[0m         \u001b[0mself\u001b[0m\u001b[0;34m.\u001b[0m\u001b[0moriginal_file_like\u001b[0m \u001b[0;34m=\u001b[0m \u001b[0;32mNone\u001b[0m\u001b[0;34m\u001b[0m\u001b[0;34m\u001b[0m\u001b[0m\n\u001b[1;32m    636\u001b[0m         \u001b[0mself\u001b[0m\u001b[0;34m.\u001b[0m\u001b[0mtell_base\u001b[0m \u001b[0;34m=\u001b[0m \u001b[0;36m0\u001b[0m\u001b[0;34m\u001b[0m\u001b[0;34m\u001b[0m\u001b[0m\n\u001b[0;32m--> 637\u001b[0;31m         \u001b[0mfh\u001b[0m\u001b[0;34m,\u001b[0m \u001b[0mopened\u001b[0m \u001b[0;34m=\u001b[0m \u001b[0mcbook\u001b[0m\u001b[0;34m.\u001b[0m\u001b[0mto_filehandle\u001b[0m\u001b[0;34m(\u001b[0m\u001b[0mfilename\u001b[0m\u001b[0;34m,\u001b[0m \u001b[0;34m\"wb\"\u001b[0m\u001b[0;34m,\u001b[0m \u001b[0mreturn_opened\u001b[0m\u001b[0;34m=\u001b[0m\u001b[0;32mTrue\u001b[0m\u001b[0;34m)\u001b[0m\u001b[0;34m\u001b[0m\u001b[0;34m\u001b[0m\u001b[0m\n\u001b[0m\u001b[1;32m    638\u001b[0m         \u001b[0;32mif\u001b[0m \u001b[0;32mnot\u001b[0m \u001b[0mopened\u001b[0m\u001b[0;34m:\u001b[0m\u001b[0;34m\u001b[0m\u001b[0;34m\u001b[0m\u001b[0m\n\u001b[1;32m    639\u001b[0m             \u001b[0;32mtry\u001b[0m\u001b[0;34m:\u001b[0m\u001b[0;34m\u001b[0m\u001b[0;34m\u001b[0m\u001b[0m\n",
      "\u001b[0;32m~/miniconda3/envs/qiime2-2021.4/lib/python3.8/site-packages/matplotlib/cbook/__init__.py\u001b[0m in \u001b[0;36mto_filehandle\u001b[0;34m(fname, flag, return_opened, encoding)\u001b[0m\n\u001b[1;32m    460\u001b[0m             \u001b[0mfh\u001b[0m \u001b[0;34m=\u001b[0m \u001b[0mbz2\u001b[0m\u001b[0;34m.\u001b[0m\u001b[0mBZ2File\u001b[0m\u001b[0;34m(\u001b[0m\u001b[0mfname\u001b[0m\u001b[0;34m,\u001b[0m \u001b[0mflag\u001b[0m\u001b[0;34m)\u001b[0m\u001b[0;34m\u001b[0m\u001b[0;34m\u001b[0m\u001b[0m\n\u001b[1;32m    461\u001b[0m         \u001b[0;32melse\u001b[0m\u001b[0;34m:\u001b[0m\u001b[0;34m\u001b[0m\u001b[0;34m\u001b[0m\u001b[0m\n\u001b[0;32m--> 462\u001b[0;31m             \u001b[0mfh\u001b[0m \u001b[0;34m=\u001b[0m \u001b[0mopen\u001b[0m\u001b[0;34m(\u001b[0m\u001b[0mfname\u001b[0m\u001b[0;34m,\u001b[0m \u001b[0mflag\u001b[0m\u001b[0;34m,\u001b[0m \u001b[0mencoding\u001b[0m\u001b[0;34m=\u001b[0m\u001b[0mencoding\u001b[0m\u001b[0;34m)\u001b[0m\u001b[0;34m\u001b[0m\u001b[0;34m\u001b[0m\u001b[0m\n\u001b[0m\u001b[1;32m    463\u001b[0m         \u001b[0mopened\u001b[0m \u001b[0;34m=\u001b[0m \u001b[0;32mTrue\u001b[0m\u001b[0;34m\u001b[0m\u001b[0;34m\u001b[0m\u001b[0m\n\u001b[1;32m    464\u001b[0m     \u001b[0;32melif\u001b[0m \u001b[0mhasattr\u001b[0m\u001b[0;34m(\u001b[0m\u001b[0mfname\u001b[0m\u001b[0;34m,\u001b[0m \u001b[0;34m'seek'\u001b[0m\u001b[0;34m)\u001b[0m\u001b[0;34m:\u001b[0m\u001b[0;34m\u001b[0m\u001b[0;34m\u001b[0m\u001b[0m\n",
      "\u001b[0;31mFileNotFoundError\u001b[0m: [Errno 2] No such file or directory: '../samde/python/itolfish/mantel.uwdist.pearson.itol-r_colorbar.pdf'"
     ]
    },
    {
     "data": {
      "image/png": "[encoded data removed]",
      "text/plain": [
       "<Figure size 180x43.2 with 2 Axes>"
      ]
     },
     "metadata": {
      "needs_background": "light"
     },
     "output_type": "display_data"
    }
   ],
   "source": [
    "colorbar(join(itol_dir, 'mantel.uwdist.pearson.itol-r_colorbar.pdf'),\n",
    "         cmax=node_df_pearson['r'].max(),\n",
    "         size=(2.5,.6))"
   ]
  },
  {
   "cell_type": "code",
   "execution_count": 140,
   "id": "c7d07811",
   "metadata": {},
   "outputs": [
    {
     "ename": "FileNotFoundError",
     "evalue": "[Errno 2] No such file or directory: '../samde/python/itolfish/mantel.uwdist.spearman.itol-r_colorbar.pdf'",
     "output_type": "error",
     "traceback": [
      "\u001b[0;31m---------------------------------------------------------------------------\u001b[0m",
      "\u001b[0;31mFileNotFoundError\u001b[0m                         Traceback (most recent call last)",
      "\u001b[0;32m<ipython-input-140-2c30faabd84b>\u001b[0m in \u001b[0;36m<module>\u001b[0;34m\u001b[0m\n\u001b[0;32m----> 1\u001b[0;31m colorbar(join(itol_dir, 'mantel.uwdist.spearman.itol-r_colorbar.pdf'),\n\u001b[0m\u001b[1;32m      2\u001b[0m          \u001b[0mcmax\u001b[0m\u001b[0;34m=\u001b[0m\u001b[0mnode_df_spearman\u001b[0m\u001b[0;34m[\u001b[0m\u001b[0;34m'r'\u001b[0m\u001b[0;34m]\u001b[0m\u001b[0;34m.\u001b[0m\u001b[0mmax\u001b[0m\u001b[0;34m(\u001b[0m\u001b[0;34m)\u001b[0m\u001b[0;34m,\u001b[0m\u001b[0;34m\u001b[0m\u001b[0;34m\u001b[0m\u001b[0m\n\u001b[1;32m      3\u001b[0m          size=(2.5,.6))\n",
      "\u001b[0;32m<ipython-input-138-f811e6a72fa8>\u001b[0m in \u001b[0;36mcolorbar\u001b[0;34m(fp, cmax, size)\u001b[0m\n\u001b[1;32m      8\u001b[0m     \u001b[0mcax\u001b[0m \u001b[0;34m=\u001b[0m \u001b[0mpl\u001b[0m\u001b[0;34m.\u001b[0m\u001b[0maxes\u001b[0m\u001b[0;34m(\u001b[0m\u001b[0;34m[\u001b[0m\u001b[0;36m0.1\u001b[0m\u001b[0;34m,\u001b[0m \u001b[0;36m0.4\u001b[0m\u001b[0;34m,\u001b[0m \u001b[0;36m0.8\u001b[0m\u001b[0;34m,\u001b[0m \u001b[0;36m0.5\u001b[0m\u001b[0;34m]\u001b[0m\u001b[0;34m)\u001b[0m\u001b[0;34m\u001b[0m\u001b[0;34m\u001b[0m\u001b[0m\n\u001b[1;32m      9\u001b[0m     \u001b[0mpl\u001b[0m\u001b[0;34m.\u001b[0m\u001b[0mcolorbar\u001b[0m\u001b[0;34m(\u001b[0m\u001b[0morientation\u001b[0m\u001b[0;34m=\u001b[0m\u001b[0;34m'horizontal'\u001b[0m\u001b[0;34m,\u001b[0m \u001b[0mcax\u001b[0m\u001b[0;34m=\u001b[0m\u001b[0mcax\u001b[0m\u001b[0;34m)\u001b[0m\u001b[0;34m\u001b[0m\u001b[0;34m\u001b[0m\u001b[0m\n\u001b[0;32m---> 10\u001b[0;31m     \u001b[0mpl\u001b[0m\u001b[0;34m.\u001b[0m\u001b[0msavefig\u001b[0m\u001b[0;34m(\u001b[0m\u001b[0mfp\u001b[0m\u001b[0;34m)\u001b[0m\u001b[0;34m\u001b[0m\u001b[0;34m\u001b[0m\u001b[0m\n\u001b[0m",
      "\u001b[0;32m~/miniconda3/envs/qiime2-2021.4/lib/python3.8/site-packages/matplotlib/pyplot.py\u001b[0m in \u001b[0;36msavefig\u001b[0;34m(*args, **kwargs)\u001b[0m\n\u001b[1;32m    935\u001b[0m \u001b[0;32mdef\u001b[0m \u001b[0msavefig\u001b[0m\u001b[0;34m(\u001b[0m\u001b[0;34m*\u001b[0m\u001b[0margs\u001b[0m\u001b[0;34m,\u001b[0m \u001b[0;34m**\u001b[0m\u001b[0mkwargs\u001b[0m\u001b[0;34m)\u001b[0m\u001b[0;34m:\u001b[0m\u001b[0;34m\u001b[0m\u001b[0;34m\u001b[0m\u001b[0m\n\u001b[1;32m    936\u001b[0m     \u001b[0mfig\u001b[0m \u001b[0;34m=\u001b[0m \u001b[0mgcf\u001b[0m\u001b[0;34m(\u001b[0m\u001b[0;34m)\u001b[0m\u001b[0;34m\u001b[0m\u001b[0;34m\u001b[0m\u001b[0m\n\u001b[0;32m--> 937\u001b[0;31m     \u001b[0mres\u001b[0m \u001b[0;34m=\u001b[0m \u001b[0mfig\u001b[0m\u001b[0;34m.\u001b[0m\u001b[0msavefig\u001b[0m\u001b[0;34m(\u001b[0m\u001b[0;34m*\u001b[0m\u001b[0margs\u001b[0m\u001b[0;34m,\u001b[0m \u001b[0;34m**\u001b[0m\u001b[0mkwargs\u001b[0m\u001b[0;34m)\u001b[0m\u001b[0;34m\u001b[0m\u001b[0;34m\u001b[0m\u001b[0m\n\u001b[0m\u001b[1;32m    938\u001b[0m     \u001b[0mfig\u001b[0m\u001b[0;34m.\u001b[0m\u001b[0mcanvas\u001b[0m\u001b[0;34m.\u001b[0m\u001b[0mdraw_idle\u001b[0m\u001b[0;34m(\u001b[0m\u001b[0;34m)\u001b[0m   \u001b[0;31m# need this if 'transparent=True' to reset colors\u001b[0m\u001b[0;34m\u001b[0m\u001b[0;34m\u001b[0m\u001b[0m\n\u001b[1;32m    939\u001b[0m     \u001b[0;32mreturn\u001b[0m \u001b[0mres\u001b[0m\u001b[0;34m\u001b[0m\u001b[0;34m\u001b[0m\u001b[0m\n",
      "\u001b[0;32m~/miniconda3/envs/qiime2-2021.4/lib/python3.8/site-packages/matplotlib/figure.py\u001b[0m in \u001b[0;36msavefig\u001b[0;34m(self, fname, transparent, **kwargs)\u001b[0m\n\u001b[1;32m   2960\u001b[0m                 \u001b[0mpatch\u001b[0m\u001b[0;34m.\u001b[0m\u001b[0mset_edgecolor\u001b[0m\u001b[0;34m(\u001b[0m\u001b[0;34m'none'\u001b[0m\u001b[0;34m)\u001b[0m\u001b[0;34m\u001b[0m\u001b[0;34m\u001b[0m\u001b[0m\n\u001b[1;32m   2961\u001b[0m \u001b[0;34m\u001b[0m\u001b[0m\n\u001b[0;32m-> 2962\u001b[0;31m         \u001b[0mself\u001b[0m\u001b[0;34m.\u001b[0m\u001b[0mcanvas\u001b[0m\u001b[0;34m.\u001b[0m\u001b[0mprint_figure\u001b[0m\u001b[0;34m(\u001b[0m\u001b[0mfname\u001b[0m\u001b[0;34m,\u001b[0m \u001b[0;34m**\u001b[0m\u001b[0mkwargs\u001b[0m\u001b[0;34m)\u001b[0m\u001b[0;34m\u001b[0m\u001b[0;34m\u001b[0m\u001b[0m\n\u001b[0m\u001b[1;32m   2963\u001b[0m \u001b[0;34m\u001b[0m\u001b[0m\n\u001b[1;32m   2964\u001b[0m         \u001b[0;32mif\u001b[0m \u001b[0mtransparent\u001b[0m\u001b[0;34m:\u001b[0m\u001b[0;34m\u001b[0m\u001b[0;34m\u001b[0m\u001b[0m\n",
      "\u001b[0;32m~/miniconda3/envs/qiime2-2021.4/lib/python3.8/site-packages/matplotlib/backend_bases.py\u001b[0m in \u001b[0;36mprint_figure\u001b[0;34m(self, filename, dpi, facecolor, edgecolor, orientation, format, bbox_inches, pad_inches, bbox_extra_artists, backend, **kwargs)\u001b[0m\n\u001b[1;32m   2253\u001b[0m                 \u001b[0;31m# force the figure dpi to 72), so we need to set it again here.\u001b[0m\u001b[0;34m\u001b[0m\u001b[0;34m\u001b[0m\u001b[0;34m\u001b[0m\u001b[0m\n\u001b[1;32m   2254\u001b[0m                 \u001b[0;32mwith\u001b[0m \u001b[0mcbook\u001b[0m\u001b[0;34m.\u001b[0m\u001b[0m_setattr_cm\u001b[0m\u001b[0;34m(\u001b[0m\u001b[0mself\u001b[0m\u001b[0;34m.\u001b[0m\u001b[0mfigure\u001b[0m\u001b[0;34m,\u001b[0m \u001b[0mdpi\u001b[0m\u001b[0;34m=\u001b[0m\u001b[0mdpi\u001b[0m\u001b[0;34m)\u001b[0m\u001b[0;34m:\u001b[0m\u001b[0;34m\u001b[0m\u001b[0;34m\u001b[0m\u001b[0m\n\u001b[0;32m-> 2255\u001b[0;31m                     result = print_method(\n\u001b[0m\u001b[1;32m   2256\u001b[0m                         \u001b[0mfilename\u001b[0m\u001b[0;34m,\u001b[0m\u001b[0;34m\u001b[0m\u001b[0;34m\u001b[0m\u001b[0m\n\u001b[1;32m   2257\u001b[0m                         \u001b[0mfacecolor\u001b[0m\u001b[0;34m=\u001b[0m\u001b[0mfacecolor\u001b[0m\u001b[0;34m,\u001b[0m\u001b[0;34m\u001b[0m\u001b[0;34m\u001b[0m\u001b[0m\n",
      "\u001b[0;32m~/miniconda3/envs/qiime2-2021.4/lib/python3.8/site-packages/matplotlib/backend_bases.py\u001b[0m in \u001b[0;36mwrapper\u001b[0;34m(*args, **kwargs)\u001b[0m\n\u001b[1;32m   1667\u001b[0m             \u001b[0mkwargs\u001b[0m\u001b[0;34m.\u001b[0m\u001b[0mpop\u001b[0m\u001b[0;34m(\u001b[0m\u001b[0marg\u001b[0m\u001b[0;34m)\u001b[0m\u001b[0;34m\u001b[0m\u001b[0;34m\u001b[0m\u001b[0m\n\u001b[1;32m   1668\u001b[0m \u001b[0;34m\u001b[0m\u001b[0m\n\u001b[0;32m-> 1669\u001b[0;31m         \u001b[0;32mreturn\u001b[0m \u001b[0mfunc\u001b[0m\u001b[0;34m(\u001b[0m\u001b[0;34m*\u001b[0m\u001b[0margs\u001b[0m\u001b[0;34m,\u001b[0m \u001b[0;34m**\u001b[0m\u001b[0mkwargs\u001b[0m\u001b[0;34m)\u001b[0m\u001b[0;34m\u001b[0m\u001b[0;34m\u001b[0m\u001b[0m\n\u001b[0m\u001b[1;32m   1670\u001b[0m \u001b[0;34m\u001b[0m\u001b[0m\n\u001b[1;32m   1671\u001b[0m     \u001b[0;32mreturn\u001b[0m \u001b[0mwrapper\u001b[0m\u001b[0;34m\u001b[0m\u001b[0;34m\u001b[0m\u001b[0m\n",
      "\u001b[0;32m~/miniconda3/envs/qiime2-2021.4/lib/python3.8/site-packages/matplotlib/_api/deprecation.py\u001b[0m in \u001b[0;36mwrapper\u001b[0;34m(*inner_args, **inner_kwargs)\u001b[0m\n\u001b[1;32m    429\u001b[0m                          \u001b[0;32melse\u001b[0m \u001b[0mdeprecation_addendum\u001b[0m\u001b[0;34m,\u001b[0m\u001b[0;34m\u001b[0m\u001b[0;34m\u001b[0m\u001b[0m\n\u001b[1;32m    430\u001b[0m                 **kwargs)\n\u001b[0;32m--> 431\u001b[0;31m         \u001b[0;32mreturn\u001b[0m \u001b[0mfunc\u001b[0m\u001b[0;34m(\u001b[0m\u001b[0;34m*\u001b[0m\u001b[0minner_args\u001b[0m\u001b[0;34m,\u001b[0m \u001b[0;34m**\u001b[0m\u001b[0minner_kwargs\u001b[0m\u001b[0;34m)\u001b[0m\u001b[0;34m\u001b[0m\u001b[0;34m\u001b[0m\u001b[0m\n\u001b[0m\u001b[1;32m    432\u001b[0m \u001b[0;34m\u001b[0m\u001b[0m\n\u001b[1;32m    433\u001b[0m     \u001b[0;32mreturn\u001b[0m \u001b[0mwrapper\u001b[0m\u001b[0;34m\u001b[0m\u001b[0;34m\u001b[0m\u001b[0m\n",
      "\u001b[0;32m~/miniconda3/envs/qiime2-2021.4/lib/python3.8/site-packages/matplotlib/backends/backend_pdf.py\u001b[0m in \u001b[0;36mprint_pdf\u001b[0;34m(self, filename, dpi, bbox_inches_restore, metadata)\u001b[0m\n\u001b[1;32m   2716\u001b[0m             \u001b[0mfile\u001b[0m \u001b[0;34m=\u001b[0m \u001b[0mfilename\u001b[0m\u001b[0;34m.\u001b[0m\u001b[0m_file\u001b[0m\u001b[0;34m\u001b[0m\u001b[0;34m\u001b[0m\u001b[0m\n\u001b[1;32m   2717\u001b[0m         \u001b[0;32melse\u001b[0m\u001b[0;34m:\u001b[0m\u001b[0;34m\u001b[0m\u001b[0;34m\u001b[0m\u001b[0m\n\u001b[0;32m-> 2718\u001b[0;31m             \u001b[0mfile\u001b[0m \u001b[0;34m=\u001b[0m \u001b[0mPdfFile\u001b[0m\u001b[0;34m(\u001b[0m\u001b[0mfilename\u001b[0m\u001b[0;34m,\u001b[0m \u001b[0mmetadata\u001b[0m\u001b[0;34m=\u001b[0m\u001b[0mmetadata\u001b[0m\u001b[0;34m)\u001b[0m\u001b[0;34m\u001b[0m\u001b[0;34m\u001b[0m\u001b[0m\n\u001b[0m\u001b[1;32m   2719\u001b[0m         \u001b[0;32mtry\u001b[0m\u001b[0;34m:\u001b[0m\u001b[0;34m\u001b[0m\u001b[0;34m\u001b[0m\u001b[0m\n\u001b[1;32m   2720\u001b[0m             \u001b[0mfile\u001b[0m\u001b[0;34m.\u001b[0m\u001b[0mnewPage\u001b[0m\u001b[0;34m(\u001b[0m\u001b[0mwidth\u001b[0m\u001b[0;34m,\u001b[0m \u001b[0mheight\u001b[0m\u001b[0;34m)\u001b[0m\u001b[0;34m\u001b[0m\u001b[0;34m\u001b[0m\u001b[0m\n",
      "\u001b[0;32m~/miniconda3/envs/qiime2-2021.4/lib/python3.8/site-packages/matplotlib/backends/backend_pdf.py\u001b[0m in \u001b[0;36m__init__\u001b[0;34m(self, filename, metadata)\u001b[0m\n\u001b[1;32m    635\u001b[0m         \u001b[0mself\u001b[0m\u001b[0;34m.\u001b[0m\u001b[0moriginal_file_like\u001b[0m \u001b[0;34m=\u001b[0m \u001b[0;32mNone\u001b[0m\u001b[0;34m\u001b[0m\u001b[0;34m\u001b[0m\u001b[0m\n\u001b[1;32m    636\u001b[0m         \u001b[0mself\u001b[0m\u001b[0;34m.\u001b[0m\u001b[0mtell_base\u001b[0m \u001b[0;34m=\u001b[0m \u001b[0;36m0\u001b[0m\u001b[0;34m\u001b[0m\u001b[0;34m\u001b[0m\u001b[0m\n\u001b[0;32m--> 637\u001b[0;31m         \u001b[0mfh\u001b[0m\u001b[0;34m,\u001b[0m \u001b[0mopened\u001b[0m \u001b[0;34m=\u001b[0m \u001b[0mcbook\u001b[0m\u001b[0;34m.\u001b[0m\u001b[0mto_filehandle\u001b[0m\u001b[0;34m(\u001b[0m\u001b[0mfilename\u001b[0m\u001b[0;34m,\u001b[0m \u001b[0;34m\"wb\"\u001b[0m\u001b[0;34m,\u001b[0m \u001b[0mreturn_opened\u001b[0m\u001b[0;34m=\u001b[0m\u001b[0;32mTrue\u001b[0m\u001b[0;34m)\u001b[0m\u001b[0;34m\u001b[0m\u001b[0;34m\u001b[0m\u001b[0m\n\u001b[0m\u001b[1;32m    638\u001b[0m         \u001b[0;32mif\u001b[0m \u001b[0;32mnot\u001b[0m \u001b[0mopened\u001b[0m\u001b[0;34m:\u001b[0m\u001b[0;34m\u001b[0m\u001b[0;34m\u001b[0m\u001b[0m\n\u001b[1;32m    639\u001b[0m             \u001b[0;32mtry\u001b[0m\u001b[0;34m:\u001b[0m\u001b[0;34m\u001b[0m\u001b[0;34m\u001b[0m\u001b[0m\n",
      "\u001b[0;32m~/miniconda3/envs/qiime2-2021.4/lib/python3.8/site-packages/matplotlib/cbook/__init__.py\u001b[0m in \u001b[0;36mto_filehandle\u001b[0;34m(fname, flag, return_opened, encoding)\u001b[0m\n\u001b[1;32m    460\u001b[0m             \u001b[0mfh\u001b[0m \u001b[0;34m=\u001b[0m \u001b[0mbz2\u001b[0m\u001b[0;34m.\u001b[0m\u001b[0mBZ2File\u001b[0m\u001b[0;34m(\u001b[0m\u001b[0mfname\u001b[0m\u001b[0;34m,\u001b[0m \u001b[0mflag\u001b[0m\u001b[0;34m)\u001b[0m\u001b[0;34m\u001b[0m\u001b[0;34m\u001b[0m\u001b[0m\n\u001b[1;32m    461\u001b[0m         \u001b[0;32melse\u001b[0m\u001b[0;34m:\u001b[0m\u001b[0;34m\u001b[0m\u001b[0;34m\u001b[0m\u001b[0m\n\u001b[0;32m--> 462\u001b[0;31m             \u001b[0mfh\u001b[0m \u001b[0;34m=\u001b[0m \u001b[0mopen\u001b[0m\u001b[0;34m(\u001b[0m\u001b[0mfname\u001b[0m\u001b[0;34m,\u001b[0m \u001b[0mflag\u001b[0m\u001b[0;34m,\u001b[0m \u001b[0mencoding\u001b[0m\u001b[0;34m=\u001b[0m\u001b[0mencoding\u001b[0m\u001b[0;34m)\u001b[0m\u001b[0;34m\u001b[0m\u001b[0;34m\u001b[0m\u001b[0m\n\u001b[0m\u001b[1;32m    463\u001b[0m         \u001b[0mopened\u001b[0m \u001b[0;34m=\u001b[0m \u001b[0;32mTrue\u001b[0m\u001b[0;34m\u001b[0m\u001b[0;34m\u001b[0m\u001b[0m\n\u001b[1;32m    464\u001b[0m     \u001b[0;32melif\u001b[0m \u001b[0mhasattr\u001b[0m\u001b[0;34m(\u001b[0m\u001b[0mfname\u001b[0m\u001b[0;34m,\u001b[0m \u001b[0;34m'seek'\u001b[0m\u001b[0;34m)\u001b[0m\u001b[0;34m:\u001b[0m\u001b[0;34m\u001b[0m\u001b[0;34m\u001b[0m\u001b[0m\n",
      "\u001b[0;31mFileNotFoundError\u001b[0m: [Errno 2] No such file or directory: '../samde/python/itolfish/mantel.uwdist.spearman.itol-r_colorbar.pdf'"
     ]
    },
    {
     "data": {
      "image/png": "[encoded data removed]",
      "text/plain": [
       "<Figure size 180x43.2 with 2 Axes>"
      ]
     },
     "metadata": {
      "needs_background": "light"
     },
     "output_type": "display_data"
    }
   ],
   "source": [
    "colorbar(join(itol_dir, 'mantel.uwdist.spearman.itol-r_colorbar.pdf'),\n",
    "         cmax=node_df_spearman['r'].max(),\n",
    "         size=(2.5,.6))"
   ]
  },
  {
   "cell_type": "code",
   "execution_count": null,
   "id": "ff6ad1a7",
   "metadata": {},
   "outputs": [],
   "source": [
    "colorbar(join(itol_dir, 'mantel_partial.uwdist.pearson.itol-r_colorbar.pdf'),\n",
    "         cmax=node_df_pearson_partial['r'].max(),\n",
    "         size=(2.5,.6))"
   ]
  },
  {
   "cell_type": "code",
   "execution_count": null,
   "id": "028027fd",
   "metadata": {},
   "outputs": [],
   "source": [
    "colorbar(join(itol_dir, 'mantel_partial.uwdist.spearman.itol-r_colorbar.pdf'),\n",
    "         cmax=node_df_spearman_partial['r'].max(),\n",
    "         size=(2.5,.6))"
   ]
  },
  {
   "cell_type": "code",
   "execution_count": 141,
   "id": "f0ebb5a2",
   "metadata": {},
   "outputs": [],
   "source": [
    "def get_colors(vals, col, cmap=mpl.cm.plasma):\n",
    "    norm = mpl.colors.Normalize(vmin=0, vmax=np.max(vals))\n",
    "    \n",
    "    colors = []\n",
    "    \n",
    "    for i in vals:\n",
    "        rgb = mpl.cm.ScalarMappable(norm=norm,\n",
    "                                    cmap=cmap).to_rgba(i)\n",
    "        hex_val = mpl.colors.rgb2hex(rgb)\n",
    "        colors.append(hex_val)\n",
    "\n",
    "    return(colors)\n",
    "\n",
    "def write_itol_colors(node_df, col, fp, label='branch_colors'):\n",
    "    out = ('DATASET_STYLE\\n\\n'\n",
    "           'SEPARATOR SPACE\\n\\n'\n",
    "           'COLOR #ffff00\\n\\n'\n",
    "           'DATASET_LABEL %s\\n\\n'\n",
    "           'DATA\\n'\n",
    "           '#NODE_ID TYPE COLOR LABEL_OR_STYLE SIZE_FACTOR\\n' % label)\n",
    "\n",
    "    for i, row in node_df.iterrows():\n",
    "        out += '{0} branch node {1} 2 normal\\n'.format(i, row[col])\n",
    "\n",
    "    with open(fp, 'w') as f:\n",
    "        f.write(out)"
   ]
  },
  {
   "cell_type": "code",
   "execution_count": 142,
   "id": "ddc9c250",
   "metadata": {},
   "outputs": [],
   "source": [
    "#LEGEND_TITLE,Dataset legend\n",
    "#LEGEND_SHAPES,1,2,3\n",
    "#LEGEND_COLORS,#ff0000,#00ff00,#0000ff\n",
    "#LEGEND_LABELS,value1,value2,value3"
   ]
  },
  {
   "cell_type": "code",
   "execution_count": 143,
   "id": "bde7c153",
   "metadata": {
    "scrolled": true
   },
   "outputs": [
    {
     "ename": "ValueError",
     "evalue": "minvalue must be less than or equal to maxvalue",
     "output_type": "error",
     "traceback": [
      "\u001b[0;31m---------------------------------------------------------------------------\u001b[0m",
      "\u001b[0;31mValueError\u001b[0m                                Traceback (most recent call last)",
      "\u001b[0;32m<ipython-input-143-337f06a61237>\u001b[0m in \u001b[0;36m<module>\u001b[0;34m\u001b[0m\n\u001b[1;32m      1\u001b[0m \u001b[0mnode_df_pearson\u001b[0m\u001b[0;34m[\u001b[0m\u001b[0;34m'r_color'\u001b[0m\u001b[0;34m]\u001b[0m \u001b[0;34m=\u001b[0m \u001b[0mget_colors\u001b[0m\u001b[0;34m(\u001b[0m\u001b[0mnode_df_pearson\u001b[0m\u001b[0;34m[\u001b[0m\u001b[0;34m'r'\u001b[0m\u001b[0;34m]\u001b[0m\u001b[0;34m,\u001b[0m \u001b[0mcol\u001b[0m\u001b[0;34m=\u001b[0m\u001b[0;34m'r'\u001b[0m\u001b[0;34m)\u001b[0m\u001b[0;34m\u001b[0m\u001b[0;34m\u001b[0m\u001b[0m\n\u001b[0;32m----> 2\u001b[0;31m \u001b[0mnode_df_spearman\u001b[0m\u001b[0;34m[\u001b[0m\u001b[0;34m'r_color'\u001b[0m\u001b[0;34m]\u001b[0m \u001b[0;34m=\u001b[0m \u001b[0mget_colors\u001b[0m\u001b[0;34m(\u001b[0m\u001b[0mnode_df_spearman\u001b[0m\u001b[0;34m[\u001b[0m\u001b[0;34m'r'\u001b[0m\u001b[0;34m]\u001b[0m\u001b[0;34m,\u001b[0m \u001b[0mcol\u001b[0m\u001b[0;34m=\u001b[0m\u001b[0;34m'r'\u001b[0m\u001b[0;34m)\u001b[0m\u001b[0;34m\u001b[0m\u001b[0;34m\u001b[0m\u001b[0m\n\u001b[0m",
      "\u001b[0;32m<ipython-input-141-15a918e40257>\u001b[0m in \u001b[0;36mget_colors\u001b[0;34m(vals, col, cmap)\u001b[0m\n\u001b[1;32m      5\u001b[0m \u001b[0;34m\u001b[0m\u001b[0m\n\u001b[1;32m      6\u001b[0m     \u001b[0;32mfor\u001b[0m \u001b[0mi\u001b[0m \u001b[0;32min\u001b[0m \u001b[0mvals\u001b[0m\u001b[0;34m:\u001b[0m\u001b[0;34m\u001b[0m\u001b[0;34m\u001b[0m\u001b[0m\n\u001b[0;32m----> 7\u001b[0;31m         rgb = mpl.cm.ScalarMappable(norm=norm,\n\u001b[0m\u001b[1;32m      8\u001b[0m                                     cmap=cmap).to_rgba(i)\n\u001b[1;32m      9\u001b[0m         \u001b[0mhex_val\u001b[0m \u001b[0;34m=\u001b[0m \u001b[0mmpl\u001b[0m\u001b[0;34m.\u001b[0m\u001b[0mcolors\u001b[0m\u001b[0;34m.\u001b[0m\u001b[0mrgb2hex\u001b[0m\u001b[0;34m(\u001b[0m\u001b[0mrgb\u001b[0m\u001b[0;34m)\u001b[0m\u001b[0;34m\u001b[0m\u001b[0;34m\u001b[0m\u001b[0m\n",
      "\u001b[0;32m~/miniconda3/envs/qiime2-2021.4/lib/python3.8/site-packages/matplotlib/cm.py\u001b[0m in \u001b[0;36mto_rgba\u001b[0;34m(self, x, alpha, bytes, norm)\u001b[0m\n\u001b[1;32m    357\u001b[0m         \u001b[0mx\u001b[0m \u001b[0;34m=\u001b[0m \u001b[0mma\u001b[0m\u001b[0;34m.\u001b[0m\u001b[0masarray\u001b[0m\u001b[0;34m(\u001b[0m\u001b[0mx\u001b[0m\u001b[0;34m)\u001b[0m\u001b[0;34m\u001b[0m\u001b[0;34m\u001b[0m\u001b[0m\n\u001b[1;32m    358\u001b[0m         \u001b[0;32mif\u001b[0m \u001b[0mnorm\u001b[0m\u001b[0;34m:\u001b[0m\u001b[0;34m\u001b[0m\u001b[0;34m\u001b[0m\u001b[0m\n\u001b[0;32m--> 359\u001b[0;31m             \u001b[0mx\u001b[0m \u001b[0;34m=\u001b[0m \u001b[0mself\u001b[0m\u001b[0;34m.\u001b[0m\u001b[0mnorm\u001b[0m\u001b[0;34m(\u001b[0m\u001b[0mx\u001b[0m\u001b[0;34m)\u001b[0m\u001b[0;34m\u001b[0m\u001b[0;34m\u001b[0m\u001b[0m\n\u001b[0m\u001b[1;32m    360\u001b[0m         \u001b[0mrgba\u001b[0m \u001b[0;34m=\u001b[0m \u001b[0mself\u001b[0m\u001b[0;34m.\u001b[0m\u001b[0mcmap\u001b[0m\u001b[0;34m(\u001b[0m\u001b[0mx\u001b[0m\u001b[0;34m,\u001b[0m \u001b[0malpha\u001b[0m\u001b[0;34m=\u001b[0m\u001b[0malpha\u001b[0m\u001b[0;34m,\u001b[0m \u001b[0mbytes\u001b[0m\u001b[0;34m=\u001b[0m\u001b[0mbytes\u001b[0m\u001b[0;34m)\u001b[0m\u001b[0;34m\u001b[0m\u001b[0;34m\u001b[0m\u001b[0m\n\u001b[1;32m    361\u001b[0m         \u001b[0;32mreturn\u001b[0m \u001b[0mrgba\u001b[0m\u001b[0;34m\u001b[0m\u001b[0;34m\u001b[0m\u001b[0m\n",
      "\u001b[0;32m~/miniconda3/envs/qiime2-2021.4/lib/python3.8/site-packages/matplotlib/colors.py\u001b[0m in \u001b[0;36m__call__\u001b[0;34m(self, value, clip)\u001b[0m\n\u001b[1;32m   1191\u001b[0m             \u001b[0mresult\u001b[0m\u001b[0;34m.\u001b[0m\u001b[0mfill\u001b[0m\u001b[0;34m(\u001b[0m\u001b[0;36m0\u001b[0m\u001b[0;34m)\u001b[0m   \u001b[0;31m# Or should it be all masked?  Or 0.5?\u001b[0m\u001b[0;34m\u001b[0m\u001b[0;34m\u001b[0m\u001b[0m\n\u001b[1;32m   1192\u001b[0m         \u001b[0;32melif\u001b[0m \u001b[0mvmin\u001b[0m \u001b[0;34m>\u001b[0m \u001b[0mvmax\u001b[0m\u001b[0;34m:\u001b[0m\u001b[0;34m\u001b[0m\u001b[0;34m\u001b[0m\u001b[0m\n\u001b[0;32m-> 1193\u001b[0;31m             \u001b[0;32mraise\u001b[0m \u001b[0mValueError\u001b[0m\u001b[0;34m(\u001b[0m\u001b[0;34m\"minvalue must be less than or equal to maxvalue\"\u001b[0m\u001b[0;34m)\u001b[0m\u001b[0;34m\u001b[0m\u001b[0;34m\u001b[0m\u001b[0m\n\u001b[0m\u001b[1;32m   1194\u001b[0m         \u001b[0;32melse\u001b[0m\u001b[0;34m:\u001b[0m\u001b[0;34m\u001b[0m\u001b[0;34m\u001b[0m\u001b[0m\n\u001b[1;32m   1195\u001b[0m             \u001b[0;32mif\u001b[0m \u001b[0mclip\u001b[0m\u001b[0;34m:\u001b[0m\u001b[0;34m\u001b[0m\u001b[0;34m\u001b[0m\u001b[0m\n",
      "\u001b[0;31mValueError\u001b[0m: minvalue must be less than or equal to maxvalue"
     ]
    }
   ],
   "source": [
    "node_df_pearson['r_color'] = get_colors(node_df_pearson['r'], col='r')\n",
    "node_df_spearman['r_color'] = get_colors(node_df_spearman['r'], col='r')"
   ]
  },
  {
   "cell_type": "code",
   "execution_count": 144,
   "id": "ba349d11",
   "metadata": {},
   "outputs": [
    {
     "ename": "ValueError",
     "evalue": "minvalue must be less than or equal to maxvalue",
     "output_type": "error",
     "traceback": [
      "\u001b[0;31m---------------------------------------------------------------------------\u001b[0m",
      "\u001b[0;31mValueError\u001b[0m                                Traceback (most recent call last)",
      "\u001b[0;32m<ipython-input-144-9931c870682c>\u001b[0m in \u001b[0;36m<module>\u001b[0;34m\u001b[0m\n\u001b[1;32m      1\u001b[0m \u001b[0mnode_df_pearson_partial\u001b[0m\u001b[0;34m[\u001b[0m\u001b[0;34m'r_color'\u001b[0m\u001b[0;34m]\u001b[0m \u001b[0;34m=\u001b[0m \u001b[0mget_colors\u001b[0m\u001b[0;34m(\u001b[0m\u001b[0mnode_df_pearson_partial\u001b[0m\u001b[0;34m[\u001b[0m\u001b[0;34m'r'\u001b[0m\u001b[0;34m]\u001b[0m\u001b[0;34m,\u001b[0m \u001b[0mcol\u001b[0m\u001b[0;34m=\u001b[0m\u001b[0;34m'r'\u001b[0m\u001b[0;34m)\u001b[0m\u001b[0;34m\u001b[0m\u001b[0;34m\u001b[0m\u001b[0m\n\u001b[0;32m----> 2\u001b[0;31m \u001b[0mnode_df_spearman_partial\u001b[0m\u001b[0;34m[\u001b[0m\u001b[0;34m'r_color'\u001b[0m\u001b[0;34m]\u001b[0m \u001b[0;34m=\u001b[0m \u001b[0mget_colors\u001b[0m\u001b[0;34m(\u001b[0m\u001b[0mnode_df_spearman_partial\u001b[0m\u001b[0;34m[\u001b[0m\u001b[0;34m'r'\u001b[0m\u001b[0;34m]\u001b[0m\u001b[0;34m,\u001b[0m \u001b[0mcol\u001b[0m\u001b[0;34m=\u001b[0m\u001b[0;34m'r'\u001b[0m\u001b[0;34m)\u001b[0m\u001b[0;34m\u001b[0m\u001b[0;34m\u001b[0m\u001b[0m\n\u001b[0m",
      "\u001b[0;32m<ipython-input-141-15a918e40257>\u001b[0m in \u001b[0;36mget_colors\u001b[0;34m(vals, col, cmap)\u001b[0m\n\u001b[1;32m      5\u001b[0m \u001b[0;34m\u001b[0m\u001b[0m\n\u001b[1;32m      6\u001b[0m     \u001b[0;32mfor\u001b[0m \u001b[0mi\u001b[0m \u001b[0;32min\u001b[0m \u001b[0mvals\u001b[0m\u001b[0;34m:\u001b[0m\u001b[0;34m\u001b[0m\u001b[0;34m\u001b[0m\u001b[0m\n\u001b[0;32m----> 7\u001b[0;31m         rgb = mpl.cm.ScalarMappable(norm=norm,\n\u001b[0m\u001b[1;32m      8\u001b[0m                                     cmap=cmap).to_rgba(i)\n\u001b[1;32m      9\u001b[0m         \u001b[0mhex_val\u001b[0m \u001b[0;34m=\u001b[0m \u001b[0mmpl\u001b[0m\u001b[0;34m.\u001b[0m\u001b[0mcolors\u001b[0m\u001b[0;34m.\u001b[0m\u001b[0mrgb2hex\u001b[0m\u001b[0;34m(\u001b[0m\u001b[0mrgb\u001b[0m\u001b[0;34m)\u001b[0m\u001b[0;34m\u001b[0m\u001b[0;34m\u001b[0m\u001b[0m\n",
      "\u001b[0;32m~/miniconda3/envs/qiime2-2021.4/lib/python3.8/site-packages/matplotlib/cm.py\u001b[0m in \u001b[0;36mto_rgba\u001b[0;34m(self, x, alpha, bytes, norm)\u001b[0m\n\u001b[1;32m    357\u001b[0m         \u001b[0mx\u001b[0m \u001b[0;34m=\u001b[0m \u001b[0mma\u001b[0m\u001b[0;34m.\u001b[0m\u001b[0masarray\u001b[0m\u001b[0;34m(\u001b[0m\u001b[0mx\u001b[0m\u001b[0;34m)\u001b[0m\u001b[0;34m\u001b[0m\u001b[0;34m\u001b[0m\u001b[0m\n\u001b[1;32m    358\u001b[0m         \u001b[0;32mif\u001b[0m \u001b[0mnorm\u001b[0m\u001b[0;34m:\u001b[0m\u001b[0;34m\u001b[0m\u001b[0;34m\u001b[0m\u001b[0m\n\u001b[0;32m--> 359\u001b[0;31m             \u001b[0mx\u001b[0m \u001b[0;34m=\u001b[0m \u001b[0mself\u001b[0m\u001b[0;34m.\u001b[0m\u001b[0mnorm\u001b[0m\u001b[0;34m(\u001b[0m\u001b[0mx\u001b[0m\u001b[0;34m)\u001b[0m\u001b[0;34m\u001b[0m\u001b[0;34m\u001b[0m\u001b[0m\n\u001b[0m\u001b[1;32m    360\u001b[0m         \u001b[0mrgba\u001b[0m \u001b[0;34m=\u001b[0m \u001b[0mself\u001b[0m\u001b[0;34m.\u001b[0m\u001b[0mcmap\u001b[0m\u001b[0;34m(\u001b[0m\u001b[0mx\u001b[0m\u001b[0;34m,\u001b[0m \u001b[0malpha\u001b[0m\u001b[0;34m=\u001b[0m\u001b[0malpha\u001b[0m\u001b[0;34m,\u001b[0m \u001b[0mbytes\u001b[0m\u001b[0;34m=\u001b[0m\u001b[0mbytes\u001b[0m\u001b[0;34m)\u001b[0m\u001b[0;34m\u001b[0m\u001b[0;34m\u001b[0m\u001b[0m\n\u001b[1;32m    361\u001b[0m         \u001b[0;32mreturn\u001b[0m \u001b[0mrgba\u001b[0m\u001b[0;34m\u001b[0m\u001b[0;34m\u001b[0m\u001b[0m\n",
      "\u001b[0;32m~/miniconda3/envs/qiime2-2021.4/lib/python3.8/site-packages/matplotlib/colors.py\u001b[0m in \u001b[0;36m__call__\u001b[0;34m(self, value, clip)\u001b[0m\n\u001b[1;32m   1191\u001b[0m             \u001b[0mresult\u001b[0m\u001b[0;34m.\u001b[0m\u001b[0mfill\u001b[0m\u001b[0;34m(\u001b[0m\u001b[0;36m0\u001b[0m\u001b[0;34m)\u001b[0m   \u001b[0;31m# Or should it be all masked?  Or 0.5?\u001b[0m\u001b[0;34m\u001b[0m\u001b[0;34m\u001b[0m\u001b[0m\n\u001b[1;32m   1192\u001b[0m         \u001b[0;32melif\u001b[0m \u001b[0mvmin\u001b[0m \u001b[0;34m>\u001b[0m \u001b[0mvmax\u001b[0m\u001b[0;34m:\u001b[0m\u001b[0;34m\u001b[0m\u001b[0;34m\u001b[0m\u001b[0m\n\u001b[0;32m-> 1193\u001b[0;31m             \u001b[0;32mraise\u001b[0m \u001b[0mValueError\u001b[0m\u001b[0;34m(\u001b[0m\u001b[0;34m\"minvalue must be less than or equal to maxvalue\"\u001b[0m\u001b[0;34m)\u001b[0m\u001b[0;34m\u001b[0m\u001b[0;34m\u001b[0m\u001b[0m\n\u001b[0m\u001b[1;32m   1194\u001b[0m         \u001b[0;32melse\u001b[0m\u001b[0;34m:\u001b[0m\u001b[0;34m\u001b[0m\u001b[0;34m\u001b[0m\u001b[0m\n\u001b[1;32m   1195\u001b[0m             \u001b[0;32mif\u001b[0m \u001b[0mclip\u001b[0m\u001b[0;34m:\u001b[0m\u001b[0;34m\u001b[0m\u001b[0;34m\u001b[0m\u001b[0m\n",
      "\u001b[0;31mValueError\u001b[0m: minvalue must be less than or equal to maxvalue"
     ]
    }
   ],
   "source": [
    "node_df_pearson_partial['r_color'] = get_colors(node_df_pearson_partial['r'], col='r')\n",
    "node_df_spearman_partial['r_color'] = get_colors(node_df_spearman_partial['r'], col='r')"
   ]
  },
  {
   "cell_type": "code",
   "execution_count": null,
   "id": "11f40ebd",
   "metadata": {},
   "outputs": [],
   "source": [
    "write_itol_colors(node_df_pearson, \n",
    "                  'r_color', \n",
    "                  join(itol_dir, 'mantel.uwdist.pearson.itol-r_colors.txt'),\n",
    "                  label='pearson_r')\n",
    "write_itol_colors(node_df_spearman, \n",
    "                  'r_color',\n",
    "                  join(itol_dir, 'mantel.uwdist.spearman.itol-r_colors.txt'),\n",
    "                  label='spearman_r')"
   ]
  },
  {
   "cell_type": "code",
   "execution_count": null,
   "id": "ccd948e4",
   "metadata": {},
   "outputs": [],
   "source": [
    "write_itol_colors(node_df_pearson_partial, \n",
    "                  'r_color', \n",
    "                  join(itol_dir, 'mantel_partial.uwdist.pearson.itol-r_colors.txt'),\n",
    "                  label='pearson_r_partial')\n",
    "write_itol_colors(node_df_spearman_partial, \n",
    "                  'r_color',\n",
    "                  join(itol_dir, 'mantel_partial.uwdist.spearman.itol-r_colors.txt'),\n",
    "                  label='spearman_r_partial')"
   ]
  },
  {
   "cell_type": "markdown",
   "id": "6f4b6cdc",
   "metadata": {},
   "source": [
    "Write pie chart p val indicator file"
   ]
  },
  {
   "cell_type": "code",
   "execution_count": null,
   "id": "ac5c0fdb",
   "metadata": {},
   "outputs": [],
   "source": [
    "\n",
    "# 9132,0,50,11000\n",
    "def write_pval_pies(node_df, col, fp, label='p-vals', breaks = [0.001, 0.01, 0.05]):\n",
    "    header = (\"DATASET_PIECHART\\n\"\n",
    "              \"SEPARATOR SPACE\\n\"\n",
    "              \"DATASET_LABEL %s\\n\"\n",
    "              \"COLOR #ff0000\\n\"\n",
    "              \"FIELD_COLORS #ff0000\\n\"\n",
    "              \"FIELD_LABELS p-value\\n\"\n",
    "              \"MAXIMUM_SIZE 30\\n\"\n",
    "              \"BORDER_WIDTH 0\\n\"\n",
    "              \"DATA\\n\" % label)\n",
    "    \n",
    "    break_sizes = [int(30 - i/len(breaks)*30) for i, x in enumerate(breaks)]\n",
    "    pies = []\n",
    "    for i, row in node_df.iterrows():\n",
    "        size = 0\n",
    "        for s, b in enumerate(breaks):\n",
    "            if row[col] > b:\n",
    "                continue\n",
    "            else:\n",
    "                size = break_sizes[s]\n",
    "                break\n",
    "        if size > 0:\n",
    "            pies.append(\"{0} 0 {1} 1\".format(i, size))\n",
    "    \n",
    "    out = header + '\\n'.join(pies)\n",
    "    \n",
    "    with open(fp, 'w') as f:\n",
    "        f.write(out)"
   ]
  },
  {
   "cell_type": "code",
   "execution_count": null,
   "id": "a16522d2",
   "metadata": {},
   "outputs": [],
   "source": [
    "\n",
    "write_pval_pies(node_df_pearson, \n",
    "                'p', \n",
    "                join(itol_dir, 'mantel.uwdist.pearson.itol-p_pies.txt'), \n",
    "                label='pearson_p')\n",
    "write_pval_pies(node_df_spearman, \n",
    "                'p', \n",
    "                join(itol_dir, 'mantel.uwdist.spearman.itol-p_pies.txt'),\n",
    "                label='spearman_p')"
   ]
  },
  {
   "cell_type": "code",
   "execution_count": null,
   "id": "2236f7c5",
   "metadata": {},
   "outputs": [],
   "source": [
    "write_pval_pies(node_df_pearson_partial, \n",
    "                'p',\n",
    "                join(itol_dir, 'mantel_partial.uwdist.pearson.itol-p_pies.txt'),\n",
    "                label='pearson_p_partial')\n",
    "write_pval_pies(node_df_spearman_partial, \n",
    "                'p',\n",
    "                join(itol_dir, 'mantel_partial.uwdist.spearman.itol-p_pies.txt'),\n",
    "                label='spearman_p_partial')"
   ]
  },
  {
   "cell_type": "code",
   "execution_count": null,
   "id": "5da63499",
   "metadata": {},
   "outputs": [],
   "source": [
    "def write_clade_highlights(md_df, tree, tax_col, tree_col, fp,\n",
    "                           label='clade_highlights',\n",
    "                           colors=None, alpha=0.4, cmap=mpl.cm.Set3):\n",
    "    out = ('DATASET_COLORSTRIP\\n\\n'\n",
    "           'SEPARATOR SPACE\\n\\n'\n",
    "           'COLOR #b2df8a\\n\\n'\n",
    "           'DATASET_LABEL %s\\n\\n'% label)\n",
    "    \n",
    "    taxa = md_df[tax_col].unique()\n",
    "    \n",
    "    if colors is None:\n",
    "        clist = cmap(range(len(taxa)), alpha=alpha)\n",
    "        rgblist = ['rgba(%s,%s,%s,%s)' % (int(x[0]*255),\n",
    "                                          int(x[1]*255),\n",
    "                                          int(x[2]*255),\n",
    "                                          x[3]) for x in clist]\n",
    "        colors = {x: rgblist[i] for i, x in enumerate(taxa)}\n",
    "    \n",
    "    legend_shapes = ' '.join(['1']*len(taxa))\n",
    "    legend_colors = ''\n",
    "    legend_labels = ''\n",
    "    \n",
    "    for x in colors:\n",
    "        legend_colors += ' %s' % colors[x]\n",
    "        legend_labels += ' %s' % x\n",
    "    \n",
    "    out += ('LEGEND_TITLE host_colors\\n'\n",
    "            'LEGEND_SHAPES {0}\\n'\n",
    "            'LEGEND_COLORS{1}\\n'\n",
    "            'LEGEND_LABELS{2}\\n\\nDATA\\n').format(legend_shapes,\n",
    "                                            legend_colors,\n",
    "                                            legend_labels)\n",
    "        \n",
    "    for taxon in taxa:\n",
    "        tips = set(md_df.loc[md_df[tax_col] == taxon, tree_col])\n",
    "        node = tree.lowest_common_ancestor(tips)\n",
    "        \n",
    "        out += \"{0} {1}\\n\".format(node.name, colors[taxon])\n",
    "#         out += \"{0} range {1} {2}\\n\".format(node.name, colors[taxon], taxon)\n",
    "        \n",
    "    with open(fp, 'w') as f:\n",
    "        f.write(out)"
   ]
  },
  {
   "cell_type": "code",
   "execution_count": 204,
   "id": "941694bb",
   "metadata": {},
   "outputs": [],
   "source": [
    "class_colors = {'Actinopterygii': '#b2df8a',\n",
    "                 'Mammalia': '#1f78b4',}\n",
    "\n",
    "write_clade_highlights(host_md, \n",
    "                       host_tree_subset, \n",
    "                       'host', \n",
    "                       'treetax',\n",
    "                       join(itol_dir, 'mantel.itol-Class_colors.txt'),\n",
    "                       colors=class_colors)"
   ]
  },
  {
   "cell_type": "markdown",
   "id": "641bc7d5",
   "metadata": {},
   "source": [
    "## Taxa bar chart for itol"
   ]
  },
  {
   "cell_type": "code",
   "execution_count": 147,
   "id": "fa7d00a7",
   "metadata": {},
   "outputs": [
    {
     "data": {
      "text/html": [
       "<div>\n",
       "<style scoped>\n",
       "    .dataframe tbody tr th:only-of-type {\n",
       "        vertical-align: middle;\n",
       "    }\n",
       "\n",
       "    .dataframe tbody tr th {\n",
       "        vertical-align: top;\n",
       "    }\n",
       "\n",
       "    .dataframe thead th {\n",
       "        text-align: right;\n",
       "    }\n",
       "</style>\n",
       "<table border=\"1\" class=\"dataframe\">\n",
       "  <thead>\n",
       "    <tr style=\"text-align: right;\">\n",
       "      <th></th>\n",
       "      <th>taxtree</th>\n",
       "      <th>Proteobacteria</th>\n",
       "      <th>Planctomycetota</th>\n",
       "      <th>Verrucomicrobiota</th>\n",
       "      <th>Firmicutes</th>\n",
       "      <th>Actinobacteriota</th>\n",
       "      <th>Desulfobacterota</th>\n",
       "      <th>Bacteroidota</th>\n",
       "      <th>Cyanobacteria</th>\n",
       "      <th>Fusobacteriota</th>\n",
       "    </tr>\n",
       "  </thead>\n",
       "  <tbody>\n",
       "    <tr>\n",
       "      <th>0</th>\n",
       "      <td>Antidorcas_marsupialis</td>\n",
       "      <td>1</td>\n",
       "      <td>0</td>\n",
       "      <td>0</td>\n",
       "      <td>145</td>\n",
       "      <td>1</td>\n",
       "      <td>0</td>\n",
       "      <td>40</td>\n",
       "      <td>0</td>\n",
       "      <td>0</td>\n",
       "    </tr>\n",
       "    <tr>\n",
       "      <th>1</th>\n",
       "      <td>Bos_javanicus</td>\n",
       "      <td>0</td>\n",
       "      <td>0</td>\n",
       "      <td>1</td>\n",
       "      <td>70</td>\n",
       "      <td>0</td>\n",
       "      <td>0</td>\n",
       "      <td>21</td>\n",
       "      <td>0</td>\n",
       "      <td>0</td>\n",
       "    </tr>\n",
       "    <tr>\n",
       "      <th>2</th>\n",
       "      <td>Budorcas_taxicolor</td>\n",
       "      <td>1</td>\n",
       "      <td>0</td>\n",
       "      <td>4</td>\n",
       "      <td>78</td>\n",
       "      <td>0</td>\n",
       "      <td>1</td>\n",
       "      <td>70</td>\n",
       "      <td>0</td>\n",
       "      <td>0</td>\n",
       "    </tr>\n",
       "    <tr>\n",
       "      <th>3</th>\n",
       "      <td>Gazella_spekei</td>\n",
       "      <td>1</td>\n",
       "      <td>0</td>\n",
       "      <td>6</td>\n",
       "      <td>131</td>\n",
       "      <td>2</td>\n",
       "      <td>0</td>\n",
       "      <td>32</td>\n",
       "      <td>0</td>\n",
       "      <td>0</td>\n",
       "    </tr>\n",
       "    <tr>\n",
       "      <th>4</th>\n",
       "      <td>Ovis_ammon</td>\n",
       "      <td>0</td>\n",
       "      <td>0</td>\n",
       "      <td>1</td>\n",
       "      <td>194</td>\n",
       "      <td>306</td>\n",
       "      <td>0</td>\n",
       "      <td>34</td>\n",
       "      <td>1</td>\n",
       "      <td>0</td>\n",
       "    </tr>\n",
       "    <tr>\n",
       "      <th>...</th>\n",
       "      <td>...</td>\n",
       "      <td>...</td>\n",
       "      <td>...</td>\n",
       "      <td>...</td>\n",
       "      <td>...</td>\n",
       "      <td>...</td>\n",
       "      <td>...</td>\n",
       "      <td>...</td>\n",
       "      <td>...</td>\n",
       "      <td>...</td>\n",
       "    </tr>\n",
       "    <tr>\n",
       "      <th>195</th>\n",
       "      <td>Ovis_aries</td>\n",
       "      <td>374</td>\n",
       "      <td>22</td>\n",
       "      <td>513</td>\n",
       "      <td>56875</td>\n",
       "      <td>167</td>\n",
       "      <td>233</td>\n",
       "      <td>23001</td>\n",
       "      <td>608</td>\n",
       "      <td>0</td>\n",
       "    </tr>\n",
       "    <tr>\n",
       "      <th>196</th>\n",
       "      <td>Porites_lobata</td>\n",
       "      <td>186009</td>\n",
       "      <td>237</td>\n",
       "      <td>175</td>\n",
       "      <td>51</td>\n",
       "      <td>36</td>\n",
       "      <td>48</td>\n",
       "      <td>2360</td>\n",
       "      <td>685</td>\n",
       "      <td>93</td>\n",
       "    </tr>\n",
       "    <tr>\n",
       "      <th>197</th>\n",
       "      <td>Pocillopora_elegans</td>\n",
       "      <td>183608</td>\n",
       "      <td>293</td>\n",
       "      <td>228</td>\n",
       "      <td>21</td>\n",
       "      <td>90</td>\n",
       "      <td>149</td>\n",
       "      <td>3019</td>\n",
       "      <td>9627</td>\n",
       "      <td>168</td>\n",
       "    </tr>\n",
       "    <tr>\n",
       "      <th>198</th>\n",
       "      <td>Acropora_hyacinthus</td>\n",
       "      <td>39601</td>\n",
       "      <td>817</td>\n",
       "      <td>1547</td>\n",
       "      <td>33</td>\n",
       "      <td>129</td>\n",
       "      <td>140</td>\n",
       "      <td>5694</td>\n",
       "      <td>3405</td>\n",
       "      <td>91</td>\n",
       "    </tr>\n",
       "    <tr>\n",
       "      <th>199</th>\n",
       "      <td>Stegastes_nigricans</td>\n",
       "      <td>134862</td>\n",
       "      <td>47704</td>\n",
       "      <td>16916</td>\n",
       "      <td>22092</td>\n",
       "      <td>6293</td>\n",
       "      <td>7938</td>\n",
       "      <td>24874</td>\n",
       "      <td>13554</td>\n",
       "      <td>12723</td>\n",
       "    </tr>\n",
       "  </tbody>\n",
       "</table>\n",
       "<p>200 rows × 10 columns</p>\n",
       "</div>"
      ],
      "text/plain": [
       "                    taxtree  Proteobacteria  Planctomycetota  \\\n",
       "0    Antidorcas_marsupialis               1                0   \n",
       "1             Bos_javanicus               0                0   \n",
       "2        Budorcas_taxicolor               1                0   \n",
       "3            Gazella_spekei               1                0   \n",
       "4                Ovis_ammon               0                0   \n",
       "..                      ...             ...              ...   \n",
       "195              Ovis_aries             374               22   \n",
       "196          Porites_lobata          186009              237   \n",
       "197     Pocillopora_elegans          183608              293   \n",
       "198     Acropora_hyacinthus           39601              817   \n",
       "199     Stegastes_nigricans          134862            47704   \n",
       "\n",
       "     Verrucomicrobiota  Firmicutes  Actinobacteriota  Desulfobacterota  \\\n",
       "0                    0         145                 1                 0   \n",
       "1                    1          70                 0                 0   \n",
       "2                    4          78                 0                 1   \n",
       "3                    6         131                 2                 0   \n",
       "4                    1         194               306                 0   \n",
       "..                 ...         ...               ...               ...   \n",
       "195                513       56875               167               233   \n",
       "196                175          51                36                48   \n",
       "197                228          21                90               149   \n",
       "198               1547          33               129               140   \n",
       "199              16916       22092              6293              7938   \n",
       "\n",
       "     Bacteroidota  Cyanobacteria  Fusobacteriota  \n",
       "0              40              0               0  \n",
       "1              21              0               0  \n",
       "2              70              0               0  \n",
       "3              32              0               0  \n",
       "4              34              1               0  \n",
       "..            ...            ...             ...  \n",
       "195         23001            608               0  \n",
       "196          2360            685              93  \n",
       "197          3019           9627             168  \n",
       "198          5694           3405              91  \n",
       "199         24874          13554           12723  \n",
       "\n",
       "[200 rows x 10 columns]"
      ]
     },
     "execution_count": 147,
     "metadata": {},
     "output_type": "execute_result"
    }
   ],
   "source": [
    "md_dir = '../samde/python/metadata'\n",
    "tax_md_fp = join(md_dir, 'taxabarchart.csv')\n",
    "tax_itol = pd.read_csv(tax_md_fp, sep=',')\n",
    "tax_itol"
   ]
  },
  {
   "cell_type": "code",
   "execution_count": 173,
   "id": "d1af4631",
   "metadata": {},
   "outputs": [],
   "source": [
    "def get_qualitative_colors(fields, cmap=mpl.cm.Set3, alpha=0.4):\n",
    "    clist = cmap(range(len(taxa)), alpha=alpha)\n",
    "    rgblist = ['rgba(%s,%s,%s,%s)' % (int(x[0]*255),\n",
    "                                      int(x[1]*255),\n",
    "                                      int(x[2]*255),\n",
    "                                      x[3]) for x in clist]\n",
    "    return(rgblist)\n",
    "\n",
    "def format_iTOL_multibar(fields, md, \n",
    "                         tree_ref_col=None, \n",
    "                         field_colors=None, \n",
    "                         field_labels=None, \n",
    "                         dataset_label='Multibar Chart', \n",
    "                         dataset_color=None, \n",
    "                         legend=True, \n",
    "                         unstacked=False,\n",
    "                         width=1000, \n",
    "                         margin=0,\n",
    "                         alpha=0.8,\n",
    "                        ):\n",
    "    \"\"\"\n",
    "    fields: array of columns titles in [metadata] to chart\n",
    "    metadata: pd.df containing samples to graph and data\n",
    "    \"\"\"\n",
    "    \n",
    "    if field_labels is None:\n",
    "        field_labels=fields\n",
    "    \n",
    "    if field_colors is None:\n",
    "        field_colors=get_qualitative_colors(fields, alpha=alpha)\n",
    "    \n",
    "    if tree_ref_col is None:\n",
    "        tree_ref_col=metadata.columns[0]\n",
    "\n",
    "    if dataset_color is None:\n",
    "        dataset_color = \"#00FF00\"\n",
    "\n",
    "    # remove nans\n",
    "    metadata = md.loc[:,fields + [tree_ref_col]].dropna()\n",
    "    \n",
    "    outstring = ''\n",
    "    \n",
    "    outstring += 'DATASET_MULTIBAR\\n'\n",
    "    outstring += 'SEPARATOR TAB\\n'\n",
    "    outstring += 'DATASET_LABEL\\t%s\\n' % dataset_label\n",
    "    outstring += 'COLOR\\t%s\\n' % dataset_color\n",
    "    outstring += 'FIELD_COLORS\\t%s\\n' % '\\t'.join(field_colors)\n",
    "    outstring += 'FIELD_LABELS\\t%s\\n' % '\\t'.join(field_labels)    \n",
    "    \n",
    "    if legend:\n",
    "        outstring += 'LEGEND_TITLE\\tDataset legend\\n'\n",
    "        outstring += 'LEGEND_SHAPES\\t%s\\n' % '\\t'.join(['1']*len(fields))\n",
    "        outstring += 'LEGEND_COLORS\\t%s\\n' % '\\t'.join(field_colors)\n",
    "        outstring += 'LEGEND_LABELS\\t%s\\n' % '\\t'.join(field_labels)\n",
    "    \n",
    "    outstring += 'MARGIN\\t%s\\n' % margin\n",
    "    outstring += 'WIDTH\\t%s\\n' % width\n",
    "\n",
    "    if unstacked:\n",
    "        outstring += 'ALIGN_FIELDS\\t1\\n'\n",
    "        \n",
    "    outstring += 'DATA\\n'\n",
    "    for index, row in metadata.iterrows():\n",
    "        outstring += row[tree_ref_col].replace(' ', '_') + '\\t%s\\n' % '\\t'.join([str(row[x]) for x in fields])\n",
    "\n",
    "    return(outstring)"
   ]
  },
  {
   "cell_type": "code",
   "execution_count": 60,
   "id": "ff5c07e9",
   "metadata": {},
   "outputs": [],
   "source": [
    "fields = ['Proteobacteria',\n",
    " 'Planctomycetota',\n",
    " 'Verrucomicrobiota',\n",
    " 'Firmicutes',\n",
    " 'Actinobacteriota',\n",
    " 'Desulfobacterota',\n",
    " 'Bacteroidota',\n",
    " 'Cyanobacteria',\n",
    " 'Fusobacteriota']\n"
   ]
  },
  {
   "cell_type": "code",
   "execution_count": 80,
   "id": "6763f69b",
   "metadata": {},
   "outputs": [],
   "source": [
    "bar = format_iTOL_multibar(fields, \n",
    "                     tax_itol, \n",
    "                     tree_ref_col='taxtree', \n",
    "                     field_colors=['#a6cee3',\n",
    "                                   '#cab2d6',\n",
    "                                   '#1f78b4',\n",
    "                                   '#33a02c',\n",
    "                                   '#6a3d9a',\n",
    "                                   '#b2df8a',\n",
    "                                   '#fb9a99',\n",
    "                                   '#e31a1c',\n",
    "                                   '#ff7f00',], \n",
    "                     field_labels=['Proteobacteria',\n",
    " 'Planctomycetota',\n",
    " 'Verrucomicrobiota',\n",
    " 'Firmicutes',\n",
    " 'Actinobacteriota',\n",
    " 'Desulfobacterota',\n",
    " 'Bacteroidota',\n",
    " 'Cyanobacteria',\n",
    " 'Fusobacteriota'], \n",
    "                     dataset_label='Taxa barchart2', \n",
    "                     dataset_color=None, \n",
    "                     legend=True,\n",
    "                     width=200, \n",
    "                     alpha=1.0)\n",
    "\n",
    "with open(join(itol_dir, 'mantel.itol-taxa_bar.txt'), 'w') as f:\n",
    "    f.write(bar)"
   ]
  },
  {
   "cell_type": "markdown",
   "id": "4c3c4526",
   "metadata": {},
   "source": [
    "Now to make the diet highlights for tree"
   ]
  },
  {
   "cell_type": "code",
   "execution_count": 208,
   "id": "52dbdb45",
   "metadata": {},
   "outputs": [],
   "source": [
    "def write_diet_highlights(md_df, tree, tax_col, tree_col, fp,\n",
    "                           label='diet_colors',\n",
    "                           colors=None, alpha=0.4, cmap=mpl.cm.Set3):\n",
    "    out = ('DATASET_COLORSTRIP\\n\\n'\n",
    "           'SEPARATOR SPACE\\n\\n'\n",
    "           'COLOR #b2df8a\\n\\n'\n",
    "           'DATASET_LABEL %s\\n\\n'% label)\n",
    "    \n",
    "    taxa = md_df[tax_col].unique()\n",
    "    \n",
    "    if colors is None:\n",
    "        clist = cmap(range(len(taxa)), alpha=alpha)\n",
    "        rgblist = ['rgba(%s,%s,%s,%s)' % (int(x[0]*255),\n",
    "                                          int(x[1]*255),\n",
    "                                          int(x[2]*255),\n",
    "                                          x[3]) for x in clist]\n",
    "        colors = {x: rgblist[i] for i, x in enumerate(taxa)}\n",
    "    \n",
    "    legend_shapes = ' '.join(['1']*len(taxa))\n",
    "    legend_colors = ''\n",
    "    legend_labels = ''\n",
    "    \n",
    "    for x in colors:\n",
    "        legend_colors += ' %s' % colors[x]\n",
    "        legend_labels += ' %s' % x\n",
    "    \n",
    "    out += ('LEGEND_TITLE diet_colors\\n'\n",
    "            'LEGEND_SHAPES {0}\\n'\n",
    "            'LEGEND_COLORS{1}\\n'\n",
    "            'LEGEND_LABELS{2}\\n\\nDATA\\n').format(legend_shapes,\n",
    "                                            legend_colors,\n",
    "                                            legend_labels)\n",
    "        \n",
    "    for taxon in taxa:\n",
    "        tips = set(md_df.loc[md_df[tax_col] == taxon, tree_col])\n",
    "        node = tree.lowest_common_ancestor(tips)\n",
    "        \n",
    "        out += \"{0} {1}\\n\".format(node.name, colors[taxon])\n",
    "#         out += \"{0} range {1} {2}\\n\".format(node.name, colors[taxon], taxon)\n",
    "        \n",
    "    with open(fp, 'w') as f:\n",
    "        f.write(out)"
   ]
  },
  {
   "cell_type": "code",
   "execution_count": 209,
   "id": "fcc3aefe",
   "metadata": {},
   "outputs": [],
   "source": [
    "diet_colors = {'carnivore': '#b2df8a',\n",
    "                 'herbivore': '#1f78b4',\n",
    "                   'omnivore' : '#33a02c',\n",
    "                      'planktivore' : '#6a3d9a',\n",
    "                        'detritivore' : '#b2df8a',\n",
    "                          'corallivore' : '#fb9a99'}\n",
    "\n",
    "write_diet_highlights(host_md, \n",
    "                       host_tree_subset, \n",
    "                       'diet2', \n",
    "                       'treetax',\n",
    "                       join(itol_dir, 'mantel.itol-diet_colors.txt'),\n",
    "                       colors=diet_colors)"
   ]
  },
  {
   "cell_type": "code",
   "execution_count": 210,
   "id": "571db4c8",
   "metadata": {},
   "outputs": [
    {
     "data": {
      "text/html": [
       "<div>\n",
       "<style scoped>\n",
       "    .dataframe tbody tr th:only-of-type {\n",
       "        vertical-align: middle;\n",
       "    }\n",
       "\n",
       "    .dataframe tbody tr th {\n",
       "        vertical-align: top;\n",
       "    }\n",
       "\n",
       "    .dataframe thead th {\n",
       "        text-align: right;\n",
       "    }\n",
       "</style>\n",
       "<table border=\"1\" class=\"dataframe\">\n",
       "  <thead>\n",
       "    <tr style=\"text-align: right;\">\n",
       "      <th></th>\n",
       "      <th>treetax</th>\n",
       "      <th>sampleid</th>\n",
       "      <th>sampletaxid</th>\n",
       "      <th>order</th>\n",
       "      <th>family</th>\n",
       "      <th>genus</th>\n",
       "      <th>species</th>\n",
       "      <th>diet</th>\n",
       "      <th>run</th>\n",
       "      <th>diet1</th>\n",
       "      <th>host</th>\n",
       "      <th>diet2</th>\n",
       "      <th>diet3</th>\n",
       "      <th>type</th>\n",
       "      <th>taxaname</th>\n",
       "    </tr>\n",
       "  </thead>\n",
       "  <tbody>\n",
       "    <tr>\n",
       "      <th>0</th>\n",
       "      <td>Abudefduf_sexfasciatus</td>\n",
       "      <td>25</td>\n",
       "      <td>Abudefduf_sexfasciatus</td>\n",
       "      <td>Ovalentaria</td>\n",
       "      <td>Pomacentridae</td>\n",
       "      <td>Abudefduf</td>\n",
       "      <td>sexfasciatus</td>\n",
       "      <td>planktivore</td>\n",
       "      <td>c</td>\n",
       "      <td>omnivore</td>\n",
       "      <td>Actinopterygii</td>\n",
       "      <td>planktivore</td>\n",
       "      <td>planktivore</td>\n",
       "      <td>animal</td>\n",
       "      <td>\"Abudefduf sexfasciatus\"</td>\n",
       "    </tr>\n",
       "    <tr>\n",
       "      <th>1</th>\n",
       "      <td>Aepyceros_melampus</td>\n",
       "      <td>410Impala</td>\n",
       "      <td>Aepyceros_melampus</td>\n",
       "      <td>Artiodactyla</td>\n",
       "      <td>Bovidae</td>\n",
       "      <td>Aepyceros</td>\n",
       "      <td>melampus</td>\n",
       "      <td>H</td>\n",
       "      <td>d</td>\n",
       "      <td>herbivore</td>\n",
       "      <td>Mammalia</td>\n",
       "      <td>herbivore</td>\n",
       "      <td>H</td>\n",
       "      <td>animal</td>\n",
       "      <td>\"Aepyceros melampus\"</td>\n",
       "    </tr>\n",
       "    <tr>\n",
       "      <th>2</th>\n",
       "      <td>Ailuropoda_melanoleuca</td>\n",
       "      <td>GP</td>\n",
       "      <td>Ailuropoda_melanoleuca</td>\n",
       "      <td>Carnivora</td>\n",
       "      <td>Ursidae</td>\n",
       "      <td>Ailuropoda</td>\n",
       "      <td>melanoleuca</td>\n",
       "      <td>H</td>\n",
       "      <td>a</td>\n",
       "      <td>herbivore</td>\n",
       "      <td>Mammalia</td>\n",
       "      <td>herbivore</td>\n",
       "      <td>H</td>\n",
       "      <td>animal</td>\n",
       "      <td>\"Ailuropoda melanoleuca\"</td>\n",
       "    </tr>\n",
       "    <tr>\n",
       "      <th>3</th>\n",
       "      <td>Ailurus_fulgens</td>\n",
       "      <td>RP</td>\n",
       "      <td>Ailurus_fulgens</td>\n",
       "      <td>Carnivora</td>\n",
       "      <td>Ursidae</td>\n",
       "      <td>Ailurus</td>\n",
       "      <td>fulgens</td>\n",
       "      <td>H</td>\n",
       "      <td>a</td>\n",
       "      <td>herbivore</td>\n",
       "      <td>Mammalia</td>\n",
       "      <td>herbivore</td>\n",
       "      <td>H</td>\n",
       "      <td>animal</td>\n",
       "      <td>\"Ailurus fulgens\"</td>\n",
       "    </tr>\n",
       "    <tr>\n",
       "      <th>4</th>\n",
       "      <td>Apodemus_flavicollis</td>\n",
       "      <td>21YellowneckedFieldMouse</td>\n",
       "      <td>Apodemus_flavicollis</td>\n",
       "      <td>Rodentia</td>\n",
       "      <td>Muridae</td>\n",
       "      <td>Apodemus</td>\n",
       "      <td>flavicollis</td>\n",
       "      <td>O</td>\n",
       "      <td>d</td>\n",
       "      <td>omnivore</td>\n",
       "      <td>Mammalia</td>\n",
       "      <td>omnivore</td>\n",
       "      <td>O</td>\n",
       "      <td>animal</td>\n",
       "      <td>\"Apodemus flavicollis\"</td>\n",
       "    </tr>\n",
       "    <tr>\n",
       "      <th>...</th>\n",
       "      <td>...</td>\n",
       "      <td>...</td>\n",
       "      <td>...</td>\n",
       "      <td>...</td>\n",
       "      <td>...</td>\n",
       "      <td>...</td>\n",
       "      <td>...</td>\n",
       "      <td>...</td>\n",
       "      <td>...</td>\n",
       "      <td>...</td>\n",
       "      <td>...</td>\n",
       "      <td>...</td>\n",
       "      <td>...</td>\n",
       "      <td>...</td>\n",
       "      <td>...</td>\n",
       "    </tr>\n",
       "    <tr>\n",
       "      <th>103</th>\n",
       "      <td>Trachypithecus_hatinhensis</td>\n",
       "      <td>238HanumanLangur</td>\n",
       "      <td>Trachypithecus_hatinhensis</td>\n",
       "      <td>Primates</td>\n",
       "      <td>Cercopithecidae</td>\n",
       "      <td>Trachypithecus</td>\n",
       "      <td>hatinhensis</td>\n",
       "      <td>H</td>\n",
       "      <td>d</td>\n",
       "      <td>herbivore</td>\n",
       "      <td>Mammalia</td>\n",
       "      <td>herbivore</td>\n",
       "      <td>H</td>\n",
       "      <td>animal</td>\n",
       "      <td>\"Trachypithecus hatinhensis\"</td>\n",
       "    </tr>\n",
       "    <tr>\n",
       "      <th>104</th>\n",
       "      <td>Trichosurus_vulpecula</td>\n",
       "      <td>287CommonBrushtail</td>\n",
       "      <td>Trichosurus_vulpecula</td>\n",
       "      <td>Diprotodontia</td>\n",
       "      <td>Phalangeridae</td>\n",
       "      <td>Trichosurus</td>\n",
       "      <td>vulpecula</td>\n",
       "      <td>O</td>\n",
       "      <td>d</td>\n",
       "      <td>omnivore</td>\n",
       "      <td>Mammalia</td>\n",
       "      <td>omnivore</td>\n",
       "      <td>O</td>\n",
       "      <td>animal</td>\n",
       "      <td>\"Trichosurus vulpecula\"</td>\n",
       "    </tr>\n",
       "    <tr>\n",
       "      <th>105</th>\n",
       "      <td>Ursus_arctos</td>\n",
       "      <td>231BrownBear</td>\n",
       "      <td>Ursus_arctos</td>\n",
       "      <td>Carnivora</td>\n",
       "      <td>Ursidae</td>\n",
       "      <td>Ursus</td>\n",
       "      <td>arctos</td>\n",
       "      <td>O</td>\n",
       "      <td>d</td>\n",
       "      <td>omnivore</td>\n",
       "      <td>Mammalia</td>\n",
       "      <td>omnivore</td>\n",
       "      <td>O</td>\n",
       "      <td>animal</td>\n",
       "      <td>\"Ursus arctos\"</td>\n",
       "    </tr>\n",
       "    <tr>\n",
       "      <th>106</th>\n",
       "      <td>Vulpes_vulpes</td>\n",
       "      <td>109RedFox</td>\n",
       "      <td>Vulpes_vulpes</td>\n",
       "      <td>Carnivora</td>\n",
       "      <td>Canidae</td>\n",
       "      <td>Vulpes</td>\n",
       "      <td>vulpes</td>\n",
       "      <td>O</td>\n",
       "      <td>d</td>\n",
       "      <td>omnivore</td>\n",
       "      <td>Mammalia</td>\n",
       "      <td>omnivore</td>\n",
       "      <td>O</td>\n",
       "      <td>animal</td>\n",
       "      <td>\"Vulpes vulpes\"</td>\n",
       "    </tr>\n",
       "    <tr>\n",
       "      <th>107</th>\n",
       "      <td>Zebrasoma_scopas</td>\n",
       "      <td>1</td>\n",
       "      <td>Zebrasoma_scopas</td>\n",
       "      <td>Acanthuriformes</td>\n",
       "      <td>Acanthuridae</td>\n",
       "      <td>Zebrasoma</td>\n",
       "      <td>scopas</td>\n",
       "      <td>herbivore</td>\n",
       "      <td>c</td>\n",
       "      <td>herbivore</td>\n",
       "      <td>Actinopterygii</td>\n",
       "      <td>herbivore</td>\n",
       "      <td>herbivore</td>\n",
       "      <td>animal</td>\n",
       "      <td>\"Zebrasoma scopas\"</td>\n",
       "    </tr>\n",
       "  </tbody>\n",
       "</table>\n",
       "<p>108 rows × 15 columns</p>\n",
       "</div>"
      ],
      "text/plain": [
       "                        treetax                  sampleid  \\\n",
       "0        Abudefduf_sexfasciatus                        25   \n",
       "1            Aepyceros_melampus                 410Impala   \n",
       "2        Ailuropoda_melanoleuca                        GP   \n",
       "3               Ailurus_fulgens                        RP   \n",
       "4          Apodemus_flavicollis  21YellowneckedFieldMouse   \n",
       "..                          ...                       ...   \n",
       "103  Trachypithecus_hatinhensis          238HanumanLangur   \n",
       "104       Trichosurus_vulpecula        287CommonBrushtail   \n",
       "105                Ursus_arctos              231BrownBear   \n",
       "106               Vulpes_vulpes                 109RedFox   \n",
       "107            Zebrasoma_scopas                         1   \n",
       "\n",
       "                    sampletaxid            order           family  \\\n",
       "0        Abudefduf_sexfasciatus      Ovalentaria    Pomacentridae   \n",
       "1            Aepyceros_melampus     Artiodactyla          Bovidae   \n",
       "2        Ailuropoda_melanoleuca        Carnivora          Ursidae   \n",
       "3               Ailurus_fulgens        Carnivora          Ursidae   \n",
       "4          Apodemus_flavicollis         Rodentia          Muridae   \n",
       "..                          ...              ...              ...   \n",
       "103  Trachypithecus_hatinhensis         Primates  Cercopithecidae   \n",
       "104       Trichosurus_vulpecula    Diprotodontia    Phalangeridae   \n",
       "105                Ursus_arctos        Carnivora          Ursidae   \n",
       "106               Vulpes_vulpes        Carnivora          Canidae   \n",
       "107            Zebrasoma_scopas  Acanthuriformes     Acanthuridae   \n",
       "\n",
       "              genus       species         diet run      diet1            host  \\\n",
       "0         Abudefduf  sexfasciatus  planktivore   c   omnivore  Actinopterygii   \n",
       "1         Aepyceros      melampus            H   d  herbivore        Mammalia   \n",
       "2        Ailuropoda   melanoleuca            H   a  herbivore        Mammalia   \n",
       "3           Ailurus       fulgens            H   a  herbivore        Mammalia   \n",
       "4          Apodemus   flavicollis            O   d   omnivore        Mammalia   \n",
       "..              ...           ...          ...  ..        ...             ...   \n",
       "103  Trachypithecus   hatinhensis            H   d  herbivore        Mammalia   \n",
       "104     Trichosurus     vulpecula            O   d   omnivore        Mammalia   \n",
       "105           Ursus        arctos            O   d   omnivore        Mammalia   \n",
       "106          Vulpes        vulpes            O   d   omnivore        Mammalia   \n",
       "107       Zebrasoma        scopas    herbivore   c  herbivore  Actinopterygii   \n",
       "\n",
       "           diet2        diet3    type                      taxaname  \n",
       "0    planktivore  planktivore  animal      \"Abudefduf sexfasciatus\"  \n",
       "1      herbivore            H  animal          \"Aepyceros melampus\"  \n",
       "2      herbivore            H  animal      \"Ailuropoda melanoleuca\"  \n",
       "3      herbivore            H  animal             \"Ailurus fulgens\"  \n",
       "4       omnivore            O  animal        \"Apodemus flavicollis\"  \n",
       "..           ...          ...     ...                           ...  \n",
       "103    herbivore            H  animal  \"Trachypithecus hatinhensis\"  \n",
       "104     omnivore            O  animal       \"Trichosurus vulpecula\"  \n",
       "105     omnivore            O  animal                \"Ursus arctos\"  \n",
       "106     omnivore            O  animal               \"Vulpes vulpes\"  \n",
       "107    herbivore    herbivore  animal            \"Zebrasoma scopas\"  \n",
       "\n",
       "[108 rows x 15 columns]"
      ]
     },
     "execution_count": 210,
     "metadata": {},
     "output_type": "execute_result"
    }
   ],
   "source": [
    "host_md"
   ]
  },
  {
   "cell_type": "code",
   "execution_count": 211,
   "id": "49fde2e0",
   "metadata": {},
   "outputs": [
    {
     "data": {
      "text/plain": [
       "<TreeNode, name: node419, internal node count: 106, tips count: 108>"
      ]
     },
     "execution_count": 211,
     "metadata": {},
     "output_type": "execute_result"
    }
   ],
   "source": [
    "host_tree_subset"
   ]
  },
  {
   "cell_type": "markdown",
   "id": "666d456a",
   "metadata": {},
   "source": [
    "## Now trying to make figure with seaborn"
   ]
  },
  {
   "cell_type": "code",
   "execution_count": 35,
   "id": "1286af43",
   "metadata": {},
   "outputs": [],
   "source": [
    "import pandas as pd\n",
    "import seaborn as sns\n",
    "import matplotlib as mpl\n",
    "from matplotlib import pyplot as plt"
   ]
  },
  {
   "cell_type": "code",
   "execution_count": 19,
   "id": "b4f6d3bf",
   "metadata": {},
   "outputs": [
    {
     "name": "stdout",
     "output_type": "stream",
     "text": [
      "/mnt/c/Users/samde/OneDrive - UCLA IT Services/Fish Project/ISLAND COMPILED PROJECT/python\n"
     ]
    }
   ],
   "source": [
    "cd 'OneDrive - UCLA IT Services/Fish Project/ISLAND COMPILED PROJECT/python'"
   ]
  },
  {
   "cell_type": "code",
   "execution_count": 50,
   "id": "890b417e",
   "metadata": {},
   "outputs": [],
   "source": [
    "df = pd.read_csv('faith_pd_merged.txt', delimiter = \"\\t\")"
   ]
  },
  {
   "cell_type": "code",
   "execution_count": 25,
   "id": "37dff515",
   "metadata": {},
   "outputs": [
    {
     "data": {
      "text/html": [
       "<div>\n",
       "<style scoped>\n",
       "    .dataframe tbody tr th:only-of-type {\n",
       "        vertical-align: middle;\n",
       "    }\n",
       "\n",
       "    .dataframe tbody tr th {\n",
       "        vertical-align: top;\n",
       "    }\n",
       "\n",
       "    .dataframe thead th {\n",
       "        text-align: right;\n",
       "    }\n",
       "</style>\n",
       "<table border=\"1\" class=\"dataframe\">\n",
       "  <thead>\n",
       "    <tr style=\"text-align: right;\">\n",
       "      <th></th>\n",
       "      <th>id</th>\n",
       "      <th>sampletaxid</th>\n",
       "      <th>order</th>\n",
       "      <th>family</th>\n",
       "      <th>genus</th>\n",
       "      <th>species</th>\n",
       "      <th>diet</th>\n",
       "      <th>run</th>\n",
       "      <th>diet1</th>\n",
       "      <th>host</th>\n",
       "      <th>diet2</th>\n",
       "      <th>diet3</th>\n",
       "      <th>type</th>\n",
       "      <th>taxaname</th>\n",
       "      <th>tax</th>\n",
       "      <th>faith_pd</th>\n",
       "    </tr>\n",
       "  </thead>\n",
       "  <tbody>\n",
       "    <tr>\n",
       "      <th>0</th>\n",
       "      <td>GP</td>\n",
       "      <td>Ailuropoda_melanoleuca</td>\n",
       "      <td>Carnivora</td>\n",
       "      <td>Ursidae</td>\n",
       "      <td>Ailuropoda</td>\n",
       "      <td>melanoleuca</td>\n",
       "      <td>H</td>\n",
       "      <td>a</td>\n",
       "      <td>herbivore</td>\n",
       "      <td>Mammalia</td>\n",
       "      <td>herbivore</td>\n",
       "      <td>H</td>\n",
       "      <td>animal</td>\n",
       "      <td>\"Ailuropoda melanoleuca\"</td>\n",
       "      <td>Ailuropoda_melanoleuca</td>\n",
       "      <td>4.394684</td>\n",
       "    </tr>\n",
       "    <tr>\n",
       "      <th>1</th>\n",
       "      <td>RP</td>\n",
       "      <td>Ailurus_fulgens</td>\n",
       "      <td>Carnivora</td>\n",
       "      <td>Ursidae</td>\n",
       "      <td>Ailurus</td>\n",
       "      <td>fulgens</td>\n",
       "      <td>H</td>\n",
       "      <td>a</td>\n",
       "      <td>herbivore</td>\n",
       "      <td>Mammalia</td>\n",
       "      <td>herbivore</td>\n",
       "      <td>H</td>\n",
       "      <td>animal</td>\n",
       "      <td>\"Ailurus fulgens\"</td>\n",
       "      <td>Ailurus_fulgens</td>\n",
       "      <td>4.074280</td>\n",
       "    </tr>\n",
       "    <tr>\n",
       "      <th>2</th>\n",
       "      <td>29</td>\n",
       "      <td>Rhinecanthus_aculeatus</td>\n",
       "      <td>Tetraodontiformes</td>\n",
       "      <td>Balistidae</td>\n",
       "      <td>Rhinecanthus</td>\n",
       "      <td>aculeatus</td>\n",
       "      <td>omnivore</td>\n",
       "      <td>c</td>\n",
       "      <td>omnivore</td>\n",
       "      <td>Actinopterygii</td>\n",
       "      <td>omnivore</td>\n",
       "      <td>omnivore</td>\n",
       "      <td>animal</td>\n",
       "      <td>\"Rhinecanthus aculeatus\"</td>\n",
       "      <td>Rhinecanthus_aculeatus</td>\n",
       "      <td>25.982524</td>\n",
       "    </tr>\n",
       "    <tr>\n",
       "      <th>3</th>\n",
       "      <td>48</td>\n",
       "      <td>Rhinecanthus_aculeatus</td>\n",
       "      <td>Tetraodontiformes</td>\n",
       "      <td>Balistidae</td>\n",
       "      <td>Rhinecanthus</td>\n",
       "      <td>aculeatus</td>\n",
       "      <td>omnivore</td>\n",
       "      <td>c</td>\n",
       "      <td>omnivore</td>\n",
       "      <td>Actinopterygii</td>\n",
       "      <td>omnivore</td>\n",
       "      <td>omnivore</td>\n",
       "      <td>animal</td>\n",
       "      <td>\"Rhinecanthus aculeatus\"</td>\n",
       "      <td>Rhinecanthus_aculeatus</td>\n",
       "      <td>17.935094</td>\n",
       "    </tr>\n",
       "    <tr>\n",
       "      <th>4</th>\n",
       "      <td>74</td>\n",
       "      <td>Rhinecanthus_aculeatus</td>\n",
       "      <td>Tetraodontiformes</td>\n",
       "      <td>Balistidae</td>\n",
       "      <td>Rhinecanthus</td>\n",
       "      <td>aculeatus</td>\n",
       "      <td>omnivore</td>\n",
       "      <td>c</td>\n",
       "      <td>omnivore</td>\n",
       "      <td>Actinopterygii</td>\n",
       "      <td>omnivore</td>\n",
       "      <td>omnivore</td>\n",
       "      <td>animal</td>\n",
       "      <td>\"Rhinecanthus aculeatus\"</td>\n",
       "      <td>Rhinecanthus_aculeatus</td>\n",
       "      <td>23.936364</td>\n",
       "    </tr>\n",
       "    <tr>\n",
       "      <th>...</th>\n",
       "      <td>...</td>\n",
       "      <td>...</td>\n",
       "      <td>...</td>\n",
       "      <td>...</td>\n",
       "      <td>...</td>\n",
       "      <td>...</td>\n",
       "      <td>...</td>\n",
       "      <td>...</td>\n",
       "      <td>...</td>\n",
       "      <td>...</td>\n",
       "      <td>...</td>\n",
       "      <td>...</td>\n",
       "      <td>...</td>\n",
       "      <td>...</td>\n",
       "      <td>...</td>\n",
       "      <td>...</td>\n",
       "    </tr>\n",
       "    <tr>\n",
       "      <th>781</th>\n",
       "      <td>M158</td>\n",
       "      <td>NaN</td>\n",
       "      <td>NaN</td>\n",
       "      <td>NaN</td>\n",
       "      <td>NaN</td>\n",
       "      <td>NaN</td>\n",
       "      <td>NaN</td>\n",
       "      <td>NaN</td>\n",
       "      <td>NaN</td>\n",
       "      <td>NaN</td>\n",
       "      <td>NaN</td>\n",
       "      <td>NaN</td>\n",
       "      <td>NaN</td>\n",
       "      <td>NaN</td>\n",
       "      <td>NaN</td>\n",
       "      <td>22.890753</td>\n",
       "    </tr>\n",
       "    <tr>\n",
       "      <th>782</th>\n",
       "      <td>M251</td>\n",
       "      <td>NaN</td>\n",
       "      <td>NaN</td>\n",
       "      <td>NaN</td>\n",
       "      <td>NaN</td>\n",
       "      <td>NaN</td>\n",
       "      <td>NaN</td>\n",
       "      <td>NaN</td>\n",
       "      <td>NaN</td>\n",
       "      <td>NaN</td>\n",
       "      <td>NaN</td>\n",
       "      <td>NaN</td>\n",
       "      <td>NaN</td>\n",
       "      <td>NaN</td>\n",
       "      <td>NaN</td>\n",
       "      <td>24.949555</td>\n",
       "    </tr>\n",
       "    <tr>\n",
       "      <th>783</th>\n",
       "      <td>M66</td>\n",
       "      <td>NaN</td>\n",
       "      <td>NaN</td>\n",
       "      <td>NaN</td>\n",
       "      <td>NaN</td>\n",
       "      <td>NaN</td>\n",
       "      <td>NaN</td>\n",
       "      <td>NaN</td>\n",
       "      <td>NaN</td>\n",
       "      <td>NaN</td>\n",
       "      <td>NaN</td>\n",
       "      <td>NaN</td>\n",
       "      <td>NaN</td>\n",
       "      <td>NaN</td>\n",
       "      <td>NaN</td>\n",
       "      <td>22.263455</td>\n",
       "    </tr>\n",
       "    <tr>\n",
       "      <th>784</th>\n",
       "      <td>M96</td>\n",
       "      <td>NaN</td>\n",
       "      <td>NaN</td>\n",
       "      <td>NaN</td>\n",
       "      <td>NaN</td>\n",
       "      <td>NaN</td>\n",
       "      <td>NaN</td>\n",
       "      <td>NaN</td>\n",
       "      <td>NaN</td>\n",
       "      <td>NaN</td>\n",
       "      <td>NaN</td>\n",
       "      <td>NaN</td>\n",
       "      <td>NaN</td>\n",
       "      <td>NaN</td>\n",
       "      <td>NaN</td>\n",
       "      <td>18.289411</td>\n",
       "    </tr>\n",
       "    <tr>\n",
       "      <th>785</th>\n",
       "      <td>d</td>\n",
       "      <td>NaN</td>\n",
       "      <td>NaN</td>\n",
       "      <td>NaN</td>\n",
       "      <td>NaN</td>\n",
       "      <td>NaN</td>\n",
       "      <td>NaN</td>\n",
       "      <td>NaN</td>\n",
       "      <td>NaN</td>\n",
       "      <td>NaN</td>\n",
       "      <td>NaN</td>\n",
       "      <td>NaN</td>\n",
       "      <td>NaN</td>\n",
       "      <td>NaN</td>\n",
       "      <td>NaN</td>\n",
       "      <td>6.671163</td>\n",
       "    </tr>\n",
       "  </tbody>\n",
       "</table>\n",
       "<p>786 rows × 16 columns</p>\n",
       "</div>"
      ],
      "text/plain": [
       "       id             sampletaxid              order      family  \\\n",
       "0      GP  Ailuropoda_melanoleuca          Carnivora     Ursidae   \n",
       "1      RP         Ailurus_fulgens          Carnivora     Ursidae   \n",
       "2      29  Rhinecanthus_aculeatus  Tetraodontiformes  Balistidae   \n",
       "3      48  Rhinecanthus_aculeatus  Tetraodontiformes  Balistidae   \n",
       "4      74  Rhinecanthus_aculeatus  Tetraodontiformes  Balistidae   \n",
       "..    ...                     ...                ...         ...   \n",
       "781  M158                     NaN                NaN         NaN   \n",
       "782  M251                     NaN                NaN         NaN   \n",
       "783   M66                     NaN                NaN         NaN   \n",
       "784   M96                     NaN                NaN         NaN   \n",
       "785     d                     NaN                NaN         NaN   \n",
       "\n",
       "            genus      species      diet  run      diet1            host  \\\n",
       "0      Ailuropoda  melanoleuca         H    a  herbivore        Mammalia   \n",
       "1         Ailurus      fulgens         H    a  herbivore        Mammalia   \n",
       "2    Rhinecanthus    aculeatus  omnivore    c   omnivore  Actinopterygii   \n",
       "3    Rhinecanthus    aculeatus  omnivore    c   omnivore  Actinopterygii   \n",
       "4    Rhinecanthus    aculeatus  omnivore    c   omnivore  Actinopterygii   \n",
       "..            ...          ...       ...  ...        ...             ...   \n",
       "781           NaN          NaN       NaN  NaN        NaN             NaN   \n",
       "782           NaN          NaN       NaN  NaN        NaN             NaN   \n",
       "783           NaN          NaN       NaN  NaN        NaN             NaN   \n",
       "784           NaN          NaN       NaN  NaN        NaN             NaN   \n",
       "785           NaN          NaN       NaN  NaN        NaN             NaN   \n",
       "\n",
       "         diet2     diet3    type                  taxaname  \\\n",
       "0    herbivore         H  animal  \"Ailuropoda melanoleuca\"   \n",
       "1    herbivore         H  animal         \"Ailurus fulgens\"   \n",
       "2     omnivore  omnivore  animal  \"Rhinecanthus aculeatus\"   \n",
       "3     omnivore  omnivore  animal  \"Rhinecanthus aculeatus\"   \n",
       "4     omnivore  omnivore  animal  \"Rhinecanthus aculeatus\"   \n",
       "..         ...       ...     ...                       ...   \n",
       "781        NaN       NaN     NaN                       NaN   \n",
       "782        NaN       NaN     NaN                       NaN   \n",
       "783        NaN       NaN     NaN                       NaN   \n",
       "784        NaN       NaN     NaN                       NaN   \n",
       "785        NaN       NaN     NaN                       NaN   \n",
       "\n",
       "                        tax   faith_pd  \n",
       "0    Ailuropoda_melanoleuca   4.394684  \n",
       "1           Ailurus_fulgens   4.074280  \n",
       "2    Rhinecanthus_aculeatus  25.982524  \n",
       "3    Rhinecanthus_aculeatus  17.935094  \n",
       "4    Rhinecanthus_aculeatus  23.936364  \n",
       "..                      ...        ...  \n",
       "781                     NaN  22.890753  \n",
       "782                     NaN  24.949555  \n",
       "783                     NaN  22.263455  \n",
       "784                     NaN  18.289411  \n",
       "785                     NaN   6.671163  \n",
       "\n",
       "[786 rows x 16 columns]"
      ]
     },
     "execution_count": 25,
     "metadata": {},
     "output_type": "execute_result"
    }
   ],
   "source": [
    "df"
   ]
  },
  {
   "cell_type": "code",
   "execution_count": 125,
   "id": "8e1154fe",
   "metadata": {},
   "outputs": [],
   "source": [
    "df2 = df[(df[\"host\"] == \"Mammalia\") | (df[\"host\"] == \"Actinopterygii\")]"
   ]
  },
  {
   "cell_type": "code",
   "execution_count": 71,
   "id": "d552dde4",
   "metadata": {},
   "outputs": [
    {
     "data": {
      "text/plain": [
       "0            Mammalia\n",
       "1            Mammalia\n",
       "2      Actinopterygii\n",
       "3      Actinopterygii\n",
       "4      Actinopterygii\n",
       "            ...      \n",
       "773             algae\n",
       "774             algae\n",
       "775             algae\n",
       "776             algae\n",
       "777             algae\n",
       "Name: host, Length: 732, dtype: category\n",
       "Categories (5, object): ['Actinopterygii', 'Mammalia', 'algae', 'coral', 'water']"
      ]
     },
     "execution_count": 71,
     "metadata": {},
     "output_type": "execute_result"
    }
   ],
   "source": [
    "df2 = df2[df2['host'].notnull()].copy()\n",
    "df2['host'] = df2['host'].astype('category')\n",
    "df2['host']"
   ]
  },
  {
   "cell_type": "code",
   "execution_count": 72,
   "id": "e28dbaea",
   "metadata": {},
   "outputs": [],
   "source": [
    "#df2['host'].cat.reorder_categories(['Mammalia','Actinopterygii','coral','water','algae'],inplace=True)"
   ]
  },
  {
   "cell_type": "code",
   "execution_count": 169,
   "id": "0a0f3d5e",
   "metadata": {},
   "outputs": [
    {
     "data": {
      "image/png": "[encoded data removed]",
      "text/plain": [
       "<Figure size 713.075x360 with 1 Axes>"
      ]
     },
     "metadata": {},
     "output_type": "display_data"
    }
   ],
   "source": [
    "sns.set(font_scale = 2)\n",
    "sns.set_style(style='white')\n",
    "s1=sns.catplot(x=\"diet1\", y=\"faith_pd\", hue=\"host\", kind=\"box\", data=df2,showfliers=False,aspect=4/3,linewidth=3,width=0.5,palette=[\"#0072B2\", \"#D55E00\"])\n",
    "s1.set(xlabel=None)\n",
    "\n",
    "s1.set(ylabel=\"Alpha Diversity\")\n",
    "\n",
    "plt.show()"
   ]
  },
  {
   "cell_type": "code",
   "execution_count": null,
   "id": "cf88ef12",
   "metadata": {},
   "outputs": [],
   "source": []
  },
  {
   "cell_type": "code",
   "execution_count": 97,
   "id": "5533628a",
   "metadata": {},
   "outputs": [],
   "source": []
  },
  {
   "cell_type": "code",
   "execution_count": 168,
   "id": "610afaf9",
   "metadata": {},
   "outputs": [
    {
     "data": {
      "image/png": "[encoded data removed]",
      "text/plain": [
       "<Figure size 840x360 with 1 Axes>"
      ]
     },
     "metadata": {},
     "output_type": "display_data"
    }
   ],
   "source": [
    "sns.set(font_scale = 1.4)\n",
    "sns.set_style(style='white')\n",
    "s2=sns.catplot(x=\"host\", y=\"faith_pd\", kind=\"box\", data=df,showfliers=False,aspect=7/3,linewidth=3,palette=[\"#0072B2\", \"#D55E00\",\n",
    "                \"gray\",\"gray\",\"gray\",\"gray\",\"gray\",\"gray\"])\n",
    "s2.set(xlabel=None)\n",
    "s2.set(ylabel=\"Alpha Diversity\")\n",
    "\n",
    "\n",
    "plt.show()"
   ]
  },
  {
   "cell_type": "code",
   "execution_count": 182,
   "id": "e88aae83",
   "metadata": {},
   "outputs": [
    {
     "data": {
      "image/png": "[encoded data removed]",
      "text/plain": [
       "<Figure size 953.075x360 with 1 Axes>"
      ]
     },
     "metadata": {},
     "output_type": "display_data"
    }
   ],
   "source": [
    "sns.set(font_scale = 2)\n",
    "sns.set_style(style='white')\n",
    "s3=sns.catplot(x=\"diet1\", y=\"faith_pd\", hue=\"host\", kind=\"box\", data=df,showfliers=False,aspect=4/2,linewidth=3,width=0.5)\n",
    "s3.set(xlabel=None)\n",
    "\n",
    "s3.set(ylabel=\"Alpha Diversity\")\n",
    "\n",
    "plt.show()"
   ]
  },
  {
   "cell_type": "code",
   "execution_count": 299,
   "id": "73541f24",
   "metadata": {},
   "outputs": [
    {
     "data": {
      "image/png": "[encoded data removed]",
      "text/plain": [
       "<Figure size 1224x504 with 2 Axes>"
      ]
     },
     "metadata": {},
     "output_type": "display_data"
    }
   ],
   "source": [
    "f, axs = plt.subplots(1,2,\n",
    "                      figsize=(17,7),\n",
    "                      sharey=True,gridspec_kw=dict(width_ratios=[3,1.7]))\n",
    "\n",
    "\n",
    "\n",
    "plt.xticks(rotation=45)\n",
    "g1=sns.boxplot(x=\"host\", y=\"faith_pd\", data=df,showfliers=False,linewidth=3,palette=[\"#0072B2\", \"#D55E00\",\n",
    "                \"gray\",\"gray\",\"gray\",\"gray\",\"gray\",\"gray\"],ax=axs[0])\n",
    "g1.set(xlabel=None)\n",
    "g1.set_xticklabels(g1.get_xticklabels(), rotation=50)\n",
    "g1.spines['right'].set_visible(False)\n",
    "g1.spines['top'].set_visible(False)\n",
    "g1.set_ylabel('Alpha Diversity',size=35,labelpad=20)\n",
    "\n",
    "\n",
    "g2=sns.boxplot(x=\"diet1\", y=\"faith_pd\", hue=\"host\", data=df2,showfliers=False,linewidth=3,width=0.5,palette=[\"#0072B2\", \"#D55E00\"],ax=axs[1])\n",
    "g2.set(xlabel=None)\n",
    "g2.set(ylabel=None)\n",
    "g2.set_xticklabels(g2.get_xticklabels(), rotation=50)\n",
    "g2.spines['right'].set_visible(False)\n",
    "g2.spines['top'].set_visible(False)\n",
    "g2.spines['left'].set_visible(False)\n",
    "\n",
    "\n",
    "sns.set_style(style='white')\n",
    "plt.tight_layout()\n",
    "plt.legend(bbox_to_anchor=(0.6, 1), loc='upper left', borderaxespad=0, handlelength=1.5)\n",
    "sns.set(font_scale = 2)\n",
    "sns.set_style(style='white')\n",
    "\n",
    "\n",
    "plt.savefig('AlphaDiversityHostDiet.pdf', dpi=300, bbox_inches='tight')\n",
    "plt.show()"
   ]
  }
 ],
 "metadata": {
  "kernelspec": {
   "display_name": "qiime2-2021.4",
   "language": "python",
   "name": "qiime2-2021.4"
  },
  "language_info": {
   "codemirror_mode": {
    "name": "ipython",
    "version": 3
   },
   "file_extension": ".py",
   "mimetype": "text/x-python",
   "name": "python",
   "nbconvert_exporter": "python",
   "pygments_lexer": "ipython3",
   "version": "3.8.8"
  }
 },
 "nbformat": 4,
 "nbformat_minor": 5
}
